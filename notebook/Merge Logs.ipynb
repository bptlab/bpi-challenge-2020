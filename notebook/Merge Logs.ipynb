{
 "metadata": {
  "language_info": {
   "codemirror_mode": {
    "name": "ipython",
    "version": 3
   },
   "file_extension": ".py",
   "mimetype": "text/x-python",
   "name": "python",
   "nbconvert_exporter": "python",
   "pygments_lexer": "ipython3",
   "version": "3.7.8-final"
  },
  "orig_nbformat": 2,
  "kernelspec": {
   "name": "python_defaultSpec_1598622232148",
   "display_name": "Python 3.7.7 64-bit"
  }
 },
 "nbformat": 4,
 "nbformat_minor": 2,
 "cells": [
  {
   "cell_type": "markdown",
   "metadata": {},
   "source": [
    "# Merging Logs\n",
    "This notebook will investigate possibilities to merge the different logs, using the *Permit Log* as center."
   ]
  },
  {
   "cell_type": "code",
   "execution_count": 1,
   "metadata": {
    "tags": []
   },
   "outputs": [
    {
     "output_type": "display_data",
     "data": {
      "text/plain": "HBox(children=(FloatProgress(value=0.0, description='parsing log, completed traces :: ', max=6426.0, style=Pro…",
      "application/vnd.jupyter.widget-view+json": {
       "version_major": 2,
       "version_minor": 0,
       "model_id": "7eb013fae28c4deeade916161ca4ec12"
      }
     },
     "metadata": {}
    },
    {
     "output_type": "stream",
     "name": "stdout",
     "text": "\n"
    },
    {
     "output_type": "display_data",
     "data": {
      "text/plain": "HBox(children=(FloatProgress(value=0.0, description='parsing log, completed traces :: ', max=6323.0, style=Pro…",
      "application/vnd.jupyter.widget-view+json": {
       "version_major": 2,
       "version_minor": 0,
       "model_id": "535b16ada29542fd9bb8698b5446b01f"
      }
     },
     "metadata": {}
    },
    {
     "output_type": "stream",
     "name": "stdout",
     "text": "\n"
    },
    {
     "output_type": "display_data",
     "data": {
      "text/plain": "HBox(children=(FloatProgress(value=0.0, description='parsing log, completed traces :: ', max=2007.0, style=Pro…",
      "application/vnd.jupyter.widget-view+json": {
       "version_major": 2,
       "version_minor": 0,
       "model_id": "0dd909e7b18a4d8a82b35dc448be5dd8"
      }
     },
     "metadata": {}
    },
    {
     "output_type": "stream",
     "name": "stdout",
     "text": "\n"
    }
   ],
   "source": [
    "import matplotlib.pyplot as plt\n",
    "\n",
    "import sys\n",
    "sys.path.insert(1, '../')\n",
    "\n",
    "from src.io import INT_DEC, PER, PRE, read_log, to_dataframe\n",
    "\n",
    "log_permit = to_dataframe(read_log(PER))\n",
    "log_intdec = to_dataframe(read_log(INT_DEC))\n",
    "log_pretra = to_dataframe(read_log(PRE))"
   ]
  },
  {
   "cell_type": "code",
   "execution_count": 2,
   "metadata": {},
   "outputs": [],
   "source": [
    "# Some helper functions\n",
    "def removeNoneFromSet(input_set):\n",
    "    if None in input_set:\n",
    "        input_set.remove(None)\n",
    "    return input_set"
   ]
  },
  {
   "cell_type": "markdown",
   "metadata": {},
   "source": [
    "## International Declarations\n",
    "See if we can find any connection to International Declarations.\n",
    "Try to join on *id* of IntDec and any of the *dec\\_id\\_* attributes of the Permit Log."
   ]
  },
  {
   "cell_type": "code",
   "execution_count": 3,
   "metadata": {
    "tags": []
   },
   "outputs": [
    {
     "output_type": "stream",
     "name": "stdout",
     "text": "I've found 5882 different declaration ids in the permit log.\nAnd there are 6323 different declaration ids in the international declarations log.\nPermit Log and International Declarations have 5870 declaration ids in common.\nThis means there are 453 declaration id(s) unique to the international log.\nAnd 12 declaration id(s) unique to the permit log.\n"
    }
   ],
   "source": [
    "attribute_stem = \"(case)_dec_id_\"\n",
    "max_number = 13\n",
    "decl_ids_in_permit = set()\n",
    "\n",
    "# Collect all declaration ids from the permit log by interating over all dec_id_ attributes\n",
    "for i in range(0, max_number + 1):\n",
    "    current_attribute = attribute_stem + str(i)\n",
    "    decl_ids_in_permit.update(log_permit[current_attribute].unique())\n",
    "decl_ids_in_permit = removeNoneFromSet(decl_ids_in_permit)\n",
    "\n",
    "# Collect all declaration ids from the IntDecl-Log from the id attribute\n",
    "decl_ids_in_international = set(log_intdec[\"(case)_id\"].unique())\n",
    "decl_ids_in_international = removeNoneFromSet(decl_ids_in_international)\n",
    "\n",
    "# Output some stats about the ids\n",
    "print(f'I\\'ve found {len(decl_ids_in_permit)} different declaration ids in the permit log.')\n",
    "print(f'And there are {len(decl_ids_in_international)} different declaration ids in the international declarations log.')\n",
    "\n",
    "common_decl_ids = decl_ids_in_permit.intersection(decl_ids_in_international)\n",
    "\n",
    "print(f'Permit Log and International Declarations have {len(common_decl_ids)} declaration ids in common.')\n",
    "\n",
    "decl_ids_unique_in_international = decl_ids_in_international.difference(decl_ids_in_permit)\n",
    "\n",
    "print(f'This means there are {len(decl_ids_unique_in_international)} declaration id(s) unique to the international log.')\n",
    "decl_ids_unique_in_permit = decl_ids_in_permit.difference(decl_ids_in_international)\n",
    "print(f'And {len(decl_ids_unique_in_permit)} declaration id(s) unique to the permit log.')\n",
    "\n",
    "#print(f'Unique international id\\'s: {decl_id_unique_in_international}')\n",
    "#print(f'Unique permit id\\'s: {decl_ids_unique_in_permit}')\n"
   ]
  },
  {
   "cell_type": "markdown",
   "metadata": {},
   "source": [
    "## PrepaidTravelCost\n",
    "See if we can find any connection to the PrepaidTravelCost Log.\n",
    "Try to join on *Rfp_id* of PrepaidTravelCost (PTC) and any of the *rfp\\_id\\_* attributes of the Permit Log."
   ]
  },
  {
   "cell_type": "code",
   "execution_count": 4,
   "metadata": {
    "tags": []
   },
   "outputs": [
    {
     "output_type": "stream",
     "name": "stdout",
     "text": "I've found 1748 different request for payment ids in the permit log.\nAnd there are 2007 different rfp ids in the prepaid travel cost log.\nPermit Log and PTC log have 1726 rfp ids in common.\nThis means there are 281 request for payment id(s) unique to the PTC log.\nAnd 22 rfp id(s) unique to the permit log.\n"
    }
   ],
   "source": [
    "attribute_stem = \"(case)_Rfp_id_\"\n",
    "max_number = 14\n",
    "rfp_ids_in_permit = set()\n",
    "\n",
    "# Collect all declaration ids from the permit log by interating over all dec_id_ attributes\n",
    "for i in range(0, max_number + 1):\n",
    "    current_attribute = attribute_stem + str(i)\n",
    "    rfp_ids_in_permit.update(log_permit[current_attribute].unique())\n",
    "rfp_ids_in_permit = removeNoneFromSet(rfp_ids_in_permit)\n",
    "\n",
    "# Collect all declaration ids from the IntDecl-Log from the id attribute\n",
    "rfp_ids_in_petra = set(log_pretra[\"(case)_Rfp_id\"].unique())\n",
    "rfp_ids_in_petra = removeNoneFromSet(rfp_ids_in_petra)\n",
    "\n",
    "# Output some stats about the ids\n",
    "print(f'I\\'ve found {len(rfp_ids_in_permit)} different request for payment ids in the permit log.')\n",
    "print(f'And there are {len(rfp_ids_in_petra)} different rfp ids in the prepaid travel cost log.')\n",
    "\n",
    "common_rfp_ids = rfp_ids_in_permit.intersection(rfp_ids_in_petra)\n",
    "\n",
    "print(f'Permit Log and PTC log have {len(common_rfp_ids)} rfp ids in common.')\n",
    "\n",
    "rfp_ids_unique_in_petra = rfp_ids_in_petra.difference(rfp_ids_in_permit)\n",
    "\n",
    "print(f'This means there are {len(rfp_ids_unique_in_petra)} request for payment id(s) unique to the PTC log.')\n",
    "rfp_ids_unique_in_permit = rfp_ids_in_permit.difference(rfp_ids_in_petra)\n",
    "print(f'And {len(rfp_ids_unique_in_permit)} rfp id(s) unique to the permit log.')"
   ]
  }
 ]
}