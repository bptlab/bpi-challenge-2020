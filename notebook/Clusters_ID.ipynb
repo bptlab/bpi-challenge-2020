{
 "metadata": {
  "language_info": {
   "codemirror_mode": {
    "name": "ipython",
    "version": 3
   },
   "file_extension": ".py",
   "mimetype": "text/x-python",
   "name": "python",
   "nbconvert_exporter": "python",
   "pygments_lexer": "ipython3",
   "version": "3.7.8-final"
  },
  "orig_nbformat": 2,
  "kernelspec": {
   "name": "python_defaultSpec_1598621411769",
   "display_name": "Python 3.7.8 64-bit"
  }
 },
 "nbformat": 4,
 "nbformat_minor": 2,
 "cells": [
  {
   "cell_type": "markdown",
   "metadata": {},
   "source": [
    "# Analyse clusters of international declarations"
   ]
  },
  {
   "cell_type": "code",
   "execution_count": 1,
   "metadata": {},
   "outputs": [],
   "source": [
    "# Imports\n",
    "from collections import Counter\n",
    "import numpy as np\n",
    "import pandas as pd\n",
    "import matplotlib.pyplot as plt"
   ]
  },
  {
   "cell_type": "code",
   "execution_count": 2,
   "metadata": {
    "tags": []
   },
   "outputs": [
    {
     "output_type": "display_data",
     "data": {
      "text/plain": "HBox(children=(FloatProgress(value=0.0, description='parsing log, completed traces :: ', max=6323.0, style=Pro…",
      "application/vnd.jupyter.widget-view+json": {
       "version_major": 2,
       "version_minor": 0,
       "model_id": "16d165c12cff4f34955af82e9ca61db8"
      }
     },
     "metadata": {}
    },
    {
     "output_type": "stream",
     "name": "stdout",
     "text": "\n"
    }
   ],
   "source": [
    "# Load log\n",
    "import sys\n",
    "sys.path.insert(1, '../')\n",
    "from src.io import INT_DEC, read_log\n",
    "\n",
    "id_log = read_log(INT_DEC)"
   ]
  },
  {
   "cell_type": "code",
   "execution_count": 3,
   "metadata": {},
   "outputs": [],
   "source": [
    "def analyze_declaration(declaration):\n",
    "    trip_start = None\n",
    "    trip_end = None\n",
    "    trip_length = np.nan\n",
    "    no_submissions = 0\n",
    "    reimbursed = False\n",
    "    \n",
    "\n",
    "    for event in declaration:\n",
    "        activity_type = event[\"concept:name\"].lower()\n",
    "        if activity_type == \"start trip\":\n",
    "            trip_start = event[\"time:timestamp\"]\n",
    "        elif activity_type == \"end trip\":\n",
    "            trip_end = event[\"time:timestamp\"]\n",
    "        elif activity_type == \"declaration submitted by employee\":\n",
    "            no_submissions += 1\n",
    "        elif activity_type == \"payment handled\":\n",
    "            reimbursed = True\n",
    "\n",
    "    if (trip_start and trip_end):\n",
    "        trip_length = (trip_end - trip_start).days\n",
    "    # if (trip_length > 70):\n",
    "    #     trip_length = 70\n",
    "\n",
    "    return (trip_length, no_submissions, reimbursed)\n",
    "\n",
    "\n",
    "def extract_info_from_declaration(declaration):\n",
    "    (trip_length, no_submissions, reimbursed) = analyze_declaration(declaration)\n",
    "    \n",
    "    attributes = declaration[0]\n",
    "\n",
    "    decl_obj = {\n",
    "        'id': attributes[\"(case)_id\"],\n",
    "        'amount': float(attributes[\"(case)_Amount\"]),\n",
    "        'budget': attributes[\"(case)_BudgetNumber\"],\n",
    "        'permit_budget': attributes[\"(case)_Permit_BudgetNumber\"],\n",
    "        'activity': attributes[\"(case)_Permit_ActivityNumber\"],\n",
    "        'org': attributes[\"(case)_Permit_OrganizationalEntity\"],\n",
    "        'project': attributes[\"(case)_Permit_ProjectNumber\"],\n",
    "        'requested_budget': float(attributes[\"(case)_Permit_RequestedBudget\"]),\n",
    "        'task': attributes[\"(case)_Permit_TaskNumber\"],\n",
    "        'permit': attributes[\"(case)_Permit_id2\"],\n",
    "        'travel_time': trip_length,\n",
    "        'submissions': no_submissions,\n",
    "        'reimbursed': reimbursed\n",
    "    }\n",
    "    return decl_obj"
   ]
  },
  {
   "cell_type": "code",
   "execution_count": 4,
   "metadata": {
    "tags": []
   },
   "outputs": [
    {
     "output_type": "execute_result",
     "data": {
      "text/plain": "                                    id      amount         budget  \\\nid                                                                  \ndeclaration 72590    declaration 72590   14.569044  budget 143921   \ndeclaration 143637  declaration 143637  709.704557  budget 143641   \ndeclaration 74628    declaration 74628    0.000000  budget 143485   \ndeclaration 143644  declaration 143644  399.691001  budget 143648   \ndeclaration 72817    declaration 72817  614.080529  budget 143506   \n...                                ...         ...            ...   \ndeclaration 34470    declaration 34470  385.909918  budget 147444   \ndeclaration 23807    declaration 23807  268.754590  budget 147442   \ndeclaration 15963    declaration 15963  389.275259  budget 147381   \ndeclaration 24958    declaration 24958   96.357465  budget 147442   \ndeclaration 12689    declaration 12689  297.421020  budget 147445   \n\n                   permit_budget activity                        org  \\\nid                                                                     \ndeclaration 72590    budget 2233  UNKNOWN  organizational unit 65455   \ndeclaration 143637    budget 425  UNKNOWN  organizational unit 65454   \ndeclaration 74628     budget 635  UNKNOWN  organizational unit 65458   \ndeclaration 143644    budget 425  UNKNOWN  organizational unit 65454   \ndeclaration 72817     budget 974  UNKNOWN  organizational unit 65458   \n...                          ...      ...                        ...   \ndeclaration 34470     budget 698  UNKNOWN  organizational unit 65458   \ndeclaration 23807     budget 980  UNKNOWN  organizational unit 65456   \ndeclaration 15963     budget 922  UNKNOWN  organizational unit 65458   \ndeclaration 24958     budget 864  UNKNOWN  organizational unit 65454   \ndeclaration 12689    budget 2453  UNKNOWN  organizational unit 65458   \n\n                          project  requested_budget      task  \\\nid                                                              \ndeclaration 72590         UNKNOWN        245.060103   UNKNOWN   \ndeclaration 143637    project 426        923.081315  task 427   \ndeclaration 74628    project 3407          0.000000  task 427   \ndeclaration 143644    project 426        923.081315  task 427   \ndeclaration 72817   project 54409       1015.978607  task 427   \n...                           ...               ...       ...   \ndeclaration 34470   project 12435        409.670826  task 427   \ndeclaration 23807     project 981        258.261951  task 427   \ndeclaration 15963   project 12152        798.420236  task 427   \ndeclaration 24958         UNKNOWN         55.271331   UNKNOWN   \ndeclaration 12689         UNKNOWN        327.736661   UNKNOWN   \n\n                                 permit  travel_time  submissions  reimbursed  \nid                                                                             \ndeclaration 72590   travel permit 72588            2            2        True  \ndeclaration 143637    travel permit 423            3            1        True  \ndeclaration 74628   travel permit 74626            6            0       False  \ndeclaration 143644    travel permit 423            3            3        True  \ndeclaration 72817   travel permit 72815            3            1        True  \n...                                 ...          ...          ...         ...  \ndeclaration 34470   travel permit 34468            1            1        True  \ndeclaration 23807   travel permit 23805            1            1        True  \ndeclaration 15963   travel permit 15961            2            1        True  \ndeclaration 24958   travel permit 24956            0            1        True  \ndeclaration 12689   travel permit 12687            1            1        True  \n\n[6323 rows x 13 columns]",
      "text/html": "<div>\n<style scoped>\n    .dataframe tbody tr th:only-of-type {\n        vertical-align: middle;\n    }\n\n    .dataframe tbody tr th {\n        vertical-align: top;\n    }\n\n    .dataframe thead th {\n        text-align: right;\n    }\n</style>\n<table border=\"1\" class=\"dataframe\">\n  <thead>\n    <tr style=\"text-align: right;\">\n      <th></th>\n      <th>id</th>\n      <th>amount</th>\n      <th>budget</th>\n      <th>permit_budget</th>\n      <th>activity</th>\n      <th>org</th>\n      <th>project</th>\n      <th>requested_budget</th>\n      <th>task</th>\n      <th>permit</th>\n      <th>travel_time</th>\n      <th>submissions</th>\n      <th>reimbursed</th>\n    </tr>\n    <tr>\n      <th>id</th>\n      <th></th>\n      <th></th>\n      <th></th>\n      <th></th>\n      <th></th>\n      <th></th>\n      <th></th>\n      <th></th>\n      <th></th>\n      <th></th>\n      <th></th>\n      <th></th>\n      <th></th>\n    </tr>\n  </thead>\n  <tbody>\n    <tr>\n      <th>declaration 72590</th>\n      <td>declaration 72590</td>\n      <td>14.569044</td>\n      <td>budget 143921</td>\n      <td>budget 2233</td>\n      <td>UNKNOWN</td>\n      <td>organizational unit 65455</td>\n      <td>UNKNOWN</td>\n      <td>245.060103</td>\n      <td>UNKNOWN</td>\n      <td>travel permit 72588</td>\n      <td>2</td>\n      <td>2</td>\n      <td>True</td>\n    </tr>\n    <tr>\n      <th>declaration 143637</th>\n      <td>declaration 143637</td>\n      <td>709.704557</td>\n      <td>budget 143641</td>\n      <td>budget 425</td>\n      <td>UNKNOWN</td>\n      <td>organizational unit 65454</td>\n      <td>project 426</td>\n      <td>923.081315</td>\n      <td>task 427</td>\n      <td>travel permit 423</td>\n      <td>3</td>\n      <td>1</td>\n      <td>True</td>\n    </tr>\n    <tr>\n      <th>declaration 74628</th>\n      <td>declaration 74628</td>\n      <td>0.000000</td>\n      <td>budget 143485</td>\n      <td>budget 635</td>\n      <td>UNKNOWN</td>\n      <td>organizational unit 65458</td>\n      <td>project 3407</td>\n      <td>0.000000</td>\n      <td>task 427</td>\n      <td>travel permit 74626</td>\n      <td>6</td>\n      <td>0</td>\n      <td>False</td>\n    </tr>\n    <tr>\n      <th>declaration 143644</th>\n      <td>declaration 143644</td>\n      <td>399.691001</td>\n      <td>budget 143648</td>\n      <td>budget 425</td>\n      <td>UNKNOWN</td>\n      <td>organizational unit 65454</td>\n      <td>project 426</td>\n      <td>923.081315</td>\n      <td>task 427</td>\n      <td>travel permit 423</td>\n      <td>3</td>\n      <td>3</td>\n      <td>True</td>\n    </tr>\n    <tr>\n      <th>declaration 72817</th>\n      <td>declaration 72817</td>\n      <td>614.080529</td>\n      <td>budget 143506</td>\n      <td>budget 974</td>\n      <td>UNKNOWN</td>\n      <td>organizational unit 65458</td>\n      <td>project 54409</td>\n      <td>1015.978607</td>\n      <td>task 427</td>\n      <td>travel permit 72815</td>\n      <td>3</td>\n      <td>1</td>\n      <td>True</td>\n    </tr>\n    <tr>\n      <th>...</th>\n      <td>...</td>\n      <td>...</td>\n      <td>...</td>\n      <td>...</td>\n      <td>...</td>\n      <td>...</td>\n      <td>...</td>\n      <td>...</td>\n      <td>...</td>\n      <td>...</td>\n      <td>...</td>\n      <td>...</td>\n      <td>...</td>\n    </tr>\n    <tr>\n      <th>declaration 34470</th>\n      <td>declaration 34470</td>\n      <td>385.909918</td>\n      <td>budget 147444</td>\n      <td>budget 698</td>\n      <td>UNKNOWN</td>\n      <td>organizational unit 65458</td>\n      <td>project 12435</td>\n      <td>409.670826</td>\n      <td>task 427</td>\n      <td>travel permit 34468</td>\n      <td>1</td>\n      <td>1</td>\n      <td>True</td>\n    </tr>\n    <tr>\n      <th>declaration 23807</th>\n      <td>declaration 23807</td>\n      <td>268.754590</td>\n      <td>budget 147442</td>\n      <td>budget 980</td>\n      <td>UNKNOWN</td>\n      <td>organizational unit 65456</td>\n      <td>project 981</td>\n      <td>258.261951</td>\n      <td>task 427</td>\n      <td>travel permit 23805</td>\n      <td>1</td>\n      <td>1</td>\n      <td>True</td>\n    </tr>\n    <tr>\n      <th>declaration 15963</th>\n      <td>declaration 15963</td>\n      <td>389.275259</td>\n      <td>budget 147381</td>\n      <td>budget 922</td>\n      <td>UNKNOWN</td>\n      <td>organizational unit 65458</td>\n      <td>project 12152</td>\n      <td>798.420236</td>\n      <td>task 427</td>\n      <td>travel permit 15961</td>\n      <td>2</td>\n      <td>1</td>\n      <td>True</td>\n    </tr>\n    <tr>\n      <th>declaration 24958</th>\n      <td>declaration 24958</td>\n      <td>96.357465</td>\n      <td>budget 147442</td>\n      <td>budget 864</td>\n      <td>UNKNOWN</td>\n      <td>organizational unit 65454</td>\n      <td>UNKNOWN</td>\n      <td>55.271331</td>\n      <td>UNKNOWN</td>\n      <td>travel permit 24956</td>\n      <td>0</td>\n      <td>1</td>\n      <td>True</td>\n    </tr>\n    <tr>\n      <th>declaration 12689</th>\n      <td>declaration 12689</td>\n      <td>297.421020</td>\n      <td>budget 147445</td>\n      <td>budget 2453</td>\n      <td>UNKNOWN</td>\n      <td>organizational unit 65458</td>\n      <td>UNKNOWN</td>\n      <td>327.736661</td>\n      <td>UNKNOWN</td>\n      <td>travel permit 12687</td>\n      <td>1</td>\n      <td>1</td>\n      <td>True</td>\n    </tr>\n  </tbody>\n</table>\n<p>6323 rows × 13 columns</p>\n</div>"
     },
     "metadata": {},
     "execution_count": 4
    }
   ],
   "source": [
    "# Schema: [{'id', 'amount', 'budget', 'permit_budget', 'activity', 'org', 'project', 'requested_budget', 'task', 'permit', 'travel_time', 'submissions', 'reimbursed'}]\n",
    "declarations = []\n",
    "\n",
    "for declaration in id_log:\n",
    "    \n",
    "    declarations.append(extract_info_from_declaration(declaration))\n",
    "\n",
    "id_dataframe = pd.DataFrame(declarations)\n",
    "id_dataframe.set_index('id', drop=False)\n"
   ]
  },
  {
   "cell_type": "code",
   "execution_count": 5,
   "metadata": {
    "tags": []
   },
   "outputs": [
    {
     "output_type": "stream",
     "name": "stdout",
     "text": "<class 'pandas.core.frame.DataFrame'>\nRangeIndex: 6323 entries, 0 to 6322\nData columns (total 13 columns):\n #   Column            Non-Null Count  Dtype  \n---  ------            --------------  -----  \n 0   id                6323 non-null   object \n 1   amount            6323 non-null   float64\n 2   budget            6323 non-null   object \n 3   permit_budget     6323 non-null   object \n 4   activity          6323 non-null   object \n 5   org               6323 non-null   object \n 6   project           6323 non-null   object \n 7   requested_budget  6323 non-null   float64\n 8   task              6323 non-null   object \n 9   permit            6323 non-null   object \n 10  travel_time       6323 non-null   int64  \n 11  submissions       6323 non-null   int64  \n 12  reimbursed        6323 non-null   bool   \ndtypes: bool(1), float64(2), int64(2), object(8)\nmemory usage: 599.1+ KB\n"
    }
   ],
   "source": [
    "id_dataframe.info()"
   ]
  },
  {
   "cell_type": "code",
   "execution_count": 6,
   "metadata": {},
   "outputs": [
    {
     "output_type": "execute_result",
     "data": {
      "text/plain": "                                amount travel_time                  \\\n                                  mean        mean median  max min   \norg                                                                  \norganizational unit 65458   818.656975   17.186047    5.0  364   0   \norganizational unit 65455   594.881918   10.071361    4.0  364   0   \norganizational unit 65454   820.583350    4.237592    3.0  120   0   \norganizational unit 65456   801.302783    6.122402    4.0  364   0   \norganizational unit 65459   892.717422    8.973361    5.0  124   0   \norganizational unit 65460   912.633768    6.496788    4.0  228   0   \norganizational unit 65457   678.705707    7.094595    4.0  274   0   \norganizational unit 65464   674.776625    5.438356    4.0  176   0   \norganizational unit 65466   872.319099   13.639810    5.0  307   0   \norganizational unit 65461   409.996261    1.961039    2.0    6   0   \norganizational unit 65469  1010.422862    2.480000    3.0   10   0   \norganizational unit 65470   326.760281    2.256410    2.0   10   0   \norganizational unit 65472   836.731547    3.722222    3.0   10   0   \norganizational unit 65467   503.963188    1.666667    0.5    8   0   \norganizational unit 65475   730.479417    5.750000    5.0   17   2   \norganizational unit 65468   663.942622    3.923077    3.0    9   1   \norganizational unit 65473   287.717289    2.666667    2.0    6   0   \norganizational unit 65480  1204.130968    5.333333    4.0   22   1   \norganizational unit 65465   859.330178    4.375000    3.5    9   2   \norganizational unit 65471   816.606763    3.142857    3.0    8   1   \norganizational unit 65482   737.743477    4.142857    2.0   12   1   \norganizational unit 65477   494.086255    3.000000    2.5    6   1   \norganizational unit 65484   680.362867    2.666667    3.0    4   1   \norganizational unit 65486   320.621154    7.000000    7.0    7   7   \norganizational unit 65462   178.832957    2.000000    2.0    2   2   \norganizational unit 65478   492.738585    5.000000    5.0    5   5   \norganizational unit 65488  1529.712021    2.000000    2.0    2   2   \n\n                          submissions reimbursed        \n                                 mean       mean  size  \norg                                                     \norganizational unit 65458    1.224101   0.978858  1419  \norganizational unit 65455    1.128449   0.970504  1051  \norganizational unit 65454    1.269271   0.952482   947  \norganizational unit 65456    1.348730   0.944573   866  \norganizational unit 65459    1.344262   0.940574   488  \norganizational unit 65460    1.229122   0.967880   467  \norganizational unit 65457    1.219595   0.952703   296  \norganizational unit 65464    1.359589   0.958904   292  \norganizational unit 65466    1.436019   0.947867   211  \norganizational unit 65461    1.220779   0.974026    77  \norganizational unit 65469    1.280000   0.980000    50  \norganizational unit 65470    1.410256   0.974359    39  \norganizational unit 65472    1.666667   1.000000    18  \norganizational unit 65467    1.333333   0.944444    18  \norganizational unit 65475    1.125000   0.937500    16  \norganizational unit 65468    0.923077   0.769231    13  \norganizational unit 65473    1.166667   1.000000    12  \norganizational unit 65480    1.333333   1.000000     9  \norganizational unit 65465    1.375000   1.000000     8  \norganizational unit 65471    1.428571   1.000000     7  \norganizational unit 65482    1.428571   1.000000     7  \norganizational unit 65477    1.250000   1.000000     4  \norganizational unit 65484    1.000000   1.000000     3  \norganizational unit 65486    1.000000   0.500000     2  \norganizational unit 65462    1.000000   1.000000     1  \norganizational unit 65478    1.000000   1.000000     1  \norganizational unit 65488    1.000000   1.000000     1  ",
      "text/html": "<div>\n<style scoped>\n    .dataframe tbody tr th:only-of-type {\n        vertical-align: middle;\n    }\n\n    .dataframe tbody tr th {\n        vertical-align: top;\n    }\n\n    .dataframe thead tr th {\n        text-align: left;\n    }\n\n    .dataframe thead tr:last-of-type th {\n        text-align: right;\n    }\n</style>\n<table border=\"1\" class=\"dataframe\">\n  <thead>\n    <tr>\n      <th></th>\n      <th>amount</th>\n      <th colspan=\"4\" halign=\"left\">travel_time</th>\n      <th>submissions</th>\n      <th colspan=\"2\" halign=\"left\">reimbursed</th>\n    </tr>\n    <tr>\n      <th></th>\n      <th>mean</th>\n      <th>mean</th>\n      <th>median</th>\n      <th>max</th>\n      <th>min</th>\n      <th>mean</th>\n      <th>mean</th>\n      <th>size</th>\n    </tr>\n    <tr>\n      <th>org</th>\n      <th></th>\n      <th></th>\n      <th></th>\n      <th></th>\n      <th></th>\n      <th></th>\n      <th></th>\n      <th></th>\n    </tr>\n  </thead>\n  <tbody>\n    <tr>\n      <th>organizational unit 65458</th>\n      <td>818.656975</td>\n      <td>17.186047</td>\n      <td>5.0</td>\n      <td>364</td>\n      <td>0</td>\n      <td>1.224101</td>\n      <td>0.978858</td>\n      <td>1419</td>\n    </tr>\n    <tr>\n      <th>organizational unit 65455</th>\n      <td>594.881918</td>\n      <td>10.071361</td>\n      <td>4.0</td>\n      <td>364</td>\n      <td>0</td>\n      <td>1.128449</td>\n      <td>0.970504</td>\n      <td>1051</td>\n    </tr>\n    <tr>\n      <th>organizational unit 65454</th>\n      <td>820.583350</td>\n      <td>4.237592</td>\n      <td>3.0</td>\n      <td>120</td>\n      <td>0</td>\n      <td>1.269271</td>\n      <td>0.952482</td>\n      <td>947</td>\n    </tr>\n    <tr>\n      <th>organizational unit 65456</th>\n      <td>801.302783</td>\n      <td>6.122402</td>\n      <td>4.0</td>\n      <td>364</td>\n      <td>0</td>\n      <td>1.348730</td>\n      <td>0.944573</td>\n      <td>866</td>\n    </tr>\n    <tr>\n      <th>organizational unit 65459</th>\n      <td>892.717422</td>\n      <td>8.973361</td>\n      <td>5.0</td>\n      <td>124</td>\n      <td>0</td>\n      <td>1.344262</td>\n      <td>0.940574</td>\n      <td>488</td>\n    </tr>\n    <tr>\n      <th>organizational unit 65460</th>\n      <td>912.633768</td>\n      <td>6.496788</td>\n      <td>4.0</td>\n      <td>228</td>\n      <td>0</td>\n      <td>1.229122</td>\n      <td>0.967880</td>\n      <td>467</td>\n    </tr>\n    <tr>\n      <th>organizational unit 65457</th>\n      <td>678.705707</td>\n      <td>7.094595</td>\n      <td>4.0</td>\n      <td>274</td>\n      <td>0</td>\n      <td>1.219595</td>\n      <td>0.952703</td>\n      <td>296</td>\n    </tr>\n    <tr>\n      <th>organizational unit 65464</th>\n      <td>674.776625</td>\n      <td>5.438356</td>\n      <td>4.0</td>\n      <td>176</td>\n      <td>0</td>\n      <td>1.359589</td>\n      <td>0.958904</td>\n      <td>292</td>\n    </tr>\n    <tr>\n      <th>organizational unit 65466</th>\n      <td>872.319099</td>\n      <td>13.639810</td>\n      <td>5.0</td>\n      <td>307</td>\n      <td>0</td>\n      <td>1.436019</td>\n      <td>0.947867</td>\n      <td>211</td>\n    </tr>\n    <tr>\n      <th>organizational unit 65461</th>\n      <td>409.996261</td>\n      <td>1.961039</td>\n      <td>2.0</td>\n      <td>6</td>\n      <td>0</td>\n      <td>1.220779</td>\n      <td>0.974026</td>\n      <td>77</td>\n    </tr>\n    <tr>\n      <th>organizational unit 65469</th>\n      <td>1010.422862</td>\n      <td>2.480000</td>\n      <td>3.0</td>\n      <td>10</td>\n      <td>0</td>\n      <td>1.280000</td>\n      <td>0.980000</td>\n      <td>50</td>\n    </tr>\n    <tr>\n      <th>organizational unit 65470</th>\n      <td>326.760281</td>\n      <td>2.256410</td>\n      <td>2.0</td>\n      <td>10</td>\n      <td>0</td>\n      <td>1.410256</td>\n      <td>0.974359</td>\n      <td>39</td>\n    </tr>\n    <tr>\n      <th>organizational unit 65472</th>\n      <td>836.731547</td>\n      <td>3.722222</td>\n      <td>3.0</td>\n      <td>10</td>\n      <td>0</td>\n      <td>1.666667</td>\n      <td>1.000000</td>\n      <td>18</td>\n    </tr>\n    <tr>\n      <th>organizational unit 65467</th>\n      <td>503.963188</td>\n      <td>1.666667</td>\n      <td>0.5</td>\n      <td>8</td>\n      <td>0</td>\n      <td>1.333333</td>\n      <td>0.944444</td>\n      <td>18</td>\n    </tr>\n    <tr>\n      <th>organizational unit 65475</th>\n      <td>730.479417</td>\n      <td>5.750000</td>\n      <td>5.0</td>\n      <td>17</td>\n      <td>2</td>\n      <td>1.125000</td>\n      <td>0.937500</td>\n      <td>16</td>\n    </tr>\n    <tr>\n      <th>organizational unit 65468</th>\n      <td>663.942622</td>\n      <td>3.923077</td>\n      <td>3.0</td>\n      <td>9</td>\n      <td>1</td>\n      <td>0.923077</td>\n      <td>0.769231</td>\n      <td>13</td>\n    </tr>\n    <tr>\n      <th>organizational unit 65473</th>\n      <td>287.717289</td>\n      <td>2.666667</td>\n      <td>2.0</td>\n      <td>6</td>\n      <td>0</td>\n      <td>1.166667</td>\n      <td>1.000000</td>\n      <td>12</td>\n    </tr>\n    <tr>\n      <th>organizational unit 65480</th>\n      <td>1204.130968</td>\n      <td>5.333333</td>\n      <td>4.0</td>\n      <td>22</td>\n      <td>1</td>\n      <td>1.333333</td>\n      <td>1.000000</td>\n      <td>9</td>\n    </tr>\n    <tr>\n      <th>organizational unit 65465</th>\n      <td>859.330178</td>\n      <td>4.375000</td>\n      <td>3.5</td>\n      <td>9</td>\n      <td>2</td>\n      <td>1.375000</td>\n      <td>1.000000</td>\n      <td>8</td>\n    </tr>\n    <tr>\n      <th>organizational unit 65471</th>\n      <td>816.606763</td>\n      <td>3.142857</td>\n      <td>3.0</td>\n      <td>8</td>\n      <td>1</td>\n      <td>1.428571</td>\n      <td>1.000000</td>\n      <td>7</td>\n    </tr>\n    <tr>\n      <th>organizational unit 65482</th>\n      <td>737.743477</td>\n      <td>4.142857</td>\n      <td>2.0</td>\n      <td>12</td>\n      <td>1</td>\n      <td>1.428571</td>\n      <td>1.000000</td>\n      <td>7</td>\n    </tr>\n    <tr>\n      <th>organizational unit 65477</th>\n      <td>494.086255</td>\n      <td>3.000000</td>\n      <td>2.5</td>\n      <td>6</td>\n      <td>1</td>\n      <td>1.250000</td>\n      <td>1.000000</td>\n      <td>4</td>\n    </tr>\n    <tr>\n      <th>organizational unit 65484</th>\n      <td>680.362867</td>\n      <td>2.666667</td>\n      <td>3.0</td>\n      <td>4</td>\n      <td>1</td>\n      <td>1.000000</td>\n      <td>1.000000</td>\n      <td>3</td>\n    </tr>\n    <tr>\n      <th>organizational unit 65486</th>\n      <td>320.621154</td>\n      <td>7.000000</td>\n      <td>7.0</td>\n      <td>7</td>\n      <td>7</td>\n      <td>1.000000</td>\n      <td>0.500000</td>\n      <td>2</td>\n    </tr>\n    <tr>\n      <th>organizational unit 65462</th>\n      <td>178.832957</td>\n      <td>2.000000</td>\n      <td>2.0</td>\n      <td>2</td>\n      <td>2</td>\n      <td>1.000000</td>\n      <td>1.000000</td>\n      <td>1</td>\n    </tr>\n    <tr>\n      <th>organizational unit 65478</th>\n      <td>492.738585</td>\n      <td>5.000000</td>\n      <td>5.0</td>\n      <td>5</td>\n      <td>5</td>\n      <td>1.000000</td>\n      <td>1.000000</td>\n      <td>1</td>\n    </tr>\n    <tr>\n      <th>organizational unit 65488</th>\n      <td>1529.712021</td>\n      <td>2.000000</td>\n      <td>2.0</td>\n      <td>2</td>\n      <td>2</td>\n      <td>1.000000</td>\n      <td>1.000000</td>\n      <td>1</td>\n    </tr>\n  </tbody>\n</table>\n</div>"
     },
     "metadata": {},
     "execution_count": 6
    }
   ],
   "source": [
    "org_group = id_dataframe.groupby(['org'])\n",
    "org_group.agg({\n",
    "    'amount': 'mean',\n",
    "    'travel_time': ['mean', 'median', 'max', 'min'],\n",
    "    'submissions': 'mean',\n",
    "    'reimbursed': ['mean', 'size']\n",
    "    }).sort_values(by=('reimbursed', 'size'), ascending=False)"
   ]
  },
  {
   "cell_type": "code",
   "execution_count": 7,
   "metadata": {
    "tags": []
   },
   "outputs": [
    {
     "output_type": "execute_result",
     "data": {
      "text/plain": "                    amount travel_time                 submissions reimbursed  \\\n                      mean        mean median  max min        mean       mean   \nproject                                                                         \nUNKNOWN         710.190527   12.799913    4.0  364   0    1.280732   0.959024   \nproject 426     869.242355    2.976190    3.0    4   1    1.166667   0.952381   \nproject 3442    682.669724    7.460000    5.0   66   0    1.120000   1.000000   \nproject 647     511.960255    8.717949    7.0   32   1    1.051282   0.974359   \nproject 636    1060.979131    8.473684    6.0   62   0    1.078947   0.947368   \n...                    ...         ...    ...  ...  ..         ...        ...   \nproject 66881   579.425628    7.000000    7.0    7   7    2.000000   1.000000   \nproject 46796   373.366016    5.000000    5.0    5   5    1.000000   1.000000   \nproject 26728   352.556652    3.000000    3.0    3   3    1.000000   1.000000   \nproject 18190   969.441524    7.000000    7.0    7   7    1.000000   1.000000   \nproject 5007   1128.057039   46.000000   46.0   46  46    1.000000   1.000000   \n\n                     \n               size  \nproject              \nUNKNOWN        2294  \nproject 426     462  \nproject 3442     50  \nproject 647      39  \nproject 636      38  \n...             ...  \nproject 66881     1  \nproject 46796     1  \nproject 26728     1  \nproject 18190     1  \nproject 5007      1  \n\n[821 rows x 8 columns]",
      "text/html": "<div>\n<style scoped>\n    .dataframe tbody tr th:only-of-type {\n        vertical-align: middle;\n    }\n\n    .dataframe tbody tr th {\n        vertical-align: top;\n    }\n\n    .dataframe thead tr th {\n        text-align: left;\n    }\n\n    .dataframe thead tr:last-of-type th {\n        text-align: right;\n    }\n</style>\n<table border=\"1\" class=\"dataframe\">\n  <thead>\n    <tr>\n      <th></th>\n      <th>amount</th>\n      <th colspan=\"4\" halign=\"left\">travel_time</th>\n      <th>submissions</th>\n      <th colspan=\"2\" halign=\"left\">reimbursed</th>\n    </tr>\n    <tr>\n      <th></th>\n      <th>mean</th>\n      <th>mean</th>\n      <th>median</th>\n      <th>max</th>\n      <th>min</th>\n      <th>mean</th>\n      <th>mean</th>\n      <th>size</th>\n    </tr>\n    <tr>\n      <th>project</th>\n      <th></th>\n      <th></th>\n      <th></th>\n      <th></th>\n      <th></th>\n      <th></th>\n      <th></th>\n      <th></th>\n    </tr>\n  </thead>\n  <tbody>\n    <tr>\n      <th>UNKNOWN</th>\n      <td>710.190527</td>\n      <td>12.799913</td>\n      <td>4.0</td>\n      <td>364</td>\n      <td>0</td>\n      <td>1.280732</td>\n      <td>0.959024</td>\n      <td>2294</td>\n    </tr>\n    <tr>\n      <th>project 426</th>\n      <td>869.242355</td>\n      <td>2.976190</td>\n      <td>3.0</td>\n      <td>4</td>\n      <td>1</td>\n      <td>1.166667</td>\n      <td>0.952381</td>\n      <td>462</td>\n    </tr>\n    <tr>\n      <th>project 3442</th>\n      <td>682.669724</td>\n      <td>7.460000</td>\n      <td>5.0</td>\n      <td>66</td>\n      <td>0</td>\n      <td>1.120000</td>\n      <td>1.000000</td>\n      <td>50</td>\n    </tr>\n    <tr>\n      <th>project 647</th>\n      <td>511.960255</td>\n      <td>8.717949</td>\n      <td>7.0</td>\n      <td>32</td>\n      <td>1</td>\n      <td>1.051282</td>\n      <td>0.974359</td>\n      <td>39</td>\n    </tr>\n    <tr>\n      <th>project 636</th>\n      <td>1060.979131</td>\n      <td>8.473684</td>\n      <td>6.0</td>\n      <td>62</td>\n      <td>0</td>\n      <td>1.078947</td>\n      <td>0.947368</td>\n      <td>38</td>\n    </tr>\n    <tr>\n      <th>...</th>\n      <td>...</td>\n      <td>...</td>\n      <td>...</td>\n      <td>...</td>\n      <td>...</td>\n      <td>...</td>\n      <td>...</td>\n      <td>...</td>\n    </tr>\n    <tr>\n      <th>project 66881</th>\n      <td>579.425628</td>\n      <td>7.000000</td>\n      <td>7.0</td>\n      <td>7</td>\n      <td>7</td>\n      <td>2.000000</td>\n      <td>1.000000</td>\n      <td>1</td>\n    </tr>\n    <tr>\n      <th>project 46796</th>\n      <td>373.366016</td>\n      <td>5.000000</td>\n      <td>5.0</td>\n      <td>5</td>\n      <td>5</td>\n      <td>1.000000</td>\n      <td>1.000000</td>\n      <td>1</td>\n    </tr>\n    <tr>\n      <th>project 26728</th>\n      <td>352.556652</td>\n      <td>3.000000</td>\n      <td>3.0</td>\n      <td>3</td>\n      <td>3</td>\n      <td>1.000000</td>\n      <td>1.000000</td>\n      <td>1</td>\n    </tr>\n    <tr>\n      <th>project 18190</th>\n      <td>969.441524</td>\n      <td>7.000000</td>\n      <td>7.0</td>\n      <td>7</td>\n      <td>7</td>\n      <td>1.000000</td>\n      <td>1.000000</td>\n      <td>1</td>\n    </tr>\n    <tr>\n      <th>project 5007</th>\n      <td>1128.057039</td>\n      <td>46.000000</td>\n      <td>46.0</td>\n      <td>46</td>\n      <td>46</td>\n      <td>1.000000</td>\n      <td>1.000000</td>\n      <td>1</td>\n    </tr>\n  </tbody>\n</table>\n<p>821 rows × 8 columns</p>\n</div>"
     },
     "metadata": {},
     "execution_count": 7
    }
   ],
   "source": [
    "project_group = id_dataframe.groupby(['project'])\n",
    "project_group.agg({\n",
    "    'amount': 'mean',\n",
    "    'travel_time': ['mean', 'median', 'max', 'min'],\n",
    "    'submissions': 'mean',\n",
    "    'reimbursed': ['mean', 'size']\n",
    "    }).sort_values(by=('reimbursed', 'size'), ascending=False)"
   ]
  }
 ]
}