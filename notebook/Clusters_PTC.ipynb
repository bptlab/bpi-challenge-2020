{
 "metadata": {
  "language_info": {
   "codemirror_mode": {
    "name": "ipython",
    "version": 3
   },
   "file_extension": ".py",
   "mimetype": "text/x-python",
   "name": "python",
   "nbconvert_exporter": "python",
   "pygments_lexer": "ipython3",
   "version": "3.7.8-final"
  },
  "orig_nbformat": 2,
  "kernelspec": {
   "name": "python_defaultSpec_1598622061970",
   "display_name": "Python 3.7.8 64-bit"
  }
 },
 "nbformat": 4,
 "nbformat_minor": 2,
 "cells": [
  {
   "cell_type": "markdown",
   "metadata": {},
   "source": [
    "# Analyse clusters of international declarations"
   ]
  },
  {
   "cell_type": "code",
   "execution_count": 1,
   "metadata": {},
   "outputs": [],
   "source": [
    "# Imports\n",
    "from collections import Counter\n",
    "import numpy as np\n",
    "import pandas as pd\n",
    "import matplotlib.pyplot as plt"
   ]
  },
  {
   "cell_type": "code",
   "execution_count": 2,
   "metadata": {
    "tags": []
   },
   "outputs": [
    {
     "output_type": "display_data",
     "data": {
      "text/plain": "HBox(children=(FloatProgress(value=0.0, description='parsing log, completed traces :: ', max=2007.0, style=Pro…",
      "application/vnd.jupyter.widget-view+json": {
       "version_major": 2,
       "version_minor": 0,
       "model_id": "ac4431cba67649ce805bec95818a8bc2"
      }
     },
     "metadata": {}
    },
    {
     "output_type": "stream",
     "name": "stdout",
     "text": "\n"
    }
   ],
   "source": [
    "# Load log\n",
    "import sys\n",
    "sys.path.insert(1, '../')\n",
    "from src.io import PRE, read_log\n",
    "\n",
    "ptc_log = read_log(PRE)"
   ]
  },
  {
   "cell_type": "code",
   "execution_count": 3,
   "metadata": {},
   "outputs": [],
   "source": [
    "def analyze_request(request):\n",
    "    no_submissions = 0\n",
    "    reimbursed = False\n",
    "    \n",
    "\n",
    "    for event in request:\n",
    "        activity_type = event[\"concept:name\"].lower()\n",
    "        if activity_type == \"request for payment submitted by employee\":\n",
    "            no_submissions += 1\n",
    "        elif activity_type == \"payment handled\":\n",
    "            reimbursed = True\n",
    "\n",
    "    return (no_submissions, reimbursed)\n",
    "\n",
    "\n",
    "def extract_info_from_request(request):\n",
    "    (no_submissions, reimbursed) = analyze_request(request)\n",
    "    \n",
    "    attributes = request[0]\n",
    "\n",
    "    decl_obj = {\n",
    "        'id': attributes[\"(case)_Rfp_id\"],\n",
    "        'amount': float(attributes[\"(case)_RequestedAmount\"]),\n",
    "        'permit_budget': attributes[\"(case)_Permit_BudgetNumber\"],\n",
    "        'org': attributes[\"(case)_OrganizationalEntity\"],\n",
    "        'permit_org': attributes[\"(case)_Permit_OrganizationalEntity\"],\n",
    "        'project': attributes[\"(case)_Project\"],\n",
    "        'permit_project': attributes[\"(case)_Permit_ProjectNumber\"],\n",
    "        'requested_budget': float(attributes[\"(case)_Permit_RequestedBudget\"]),\n",
    "        'permit': attributes[\"(case)_Permit_id\"],\n",
    "        'submissions': no_submissions,\n",
    "        'reimbursed': reimbursed\n",
    "    }\n",
    "    return decl_obj"
   ]
  },
  {
   "cell_type": "code",
   "execution_count": 4,
   "metadata": {
    "tags": []
   },
   "outputs": [
    {
     "output_type": "execute_result",
     "data": {
      "text/plain": "                                                    id       amount  \\\nid                                                                    \nrequest for payment 73550    request for payment 73550   854.579838   \nrequest for payment 73552    request for payment 73552   854.579838   \nrequest for payment 76316    request for payment 76316  1173.957795   \nrequest for payment 73536    request for payment 73536   790.552073   \nrequest for payment 76195    request for payment 76195   181.978003   \n...                                                ...          ...   \nrequest for payment 186317  request for payment 186317   251.008620   \nrequest for payment 186241  request for payment 186241   261.459608   \nrequest for payment 48748    request for payment 48748  1511.596873   \nrequest for payment 186247  request for payment 186247    20.202607   \nrequest for payment 186272  request for payment 186272    98.806057   \n\n                           permit_budget                        org  \\\nid                                                                    \nrequest for payment 73550    budget 6198  organizational unit 65463   \nrequest for payment 73552    budget 6198  organizational unit 65463   \nrequest for payment 76316    budget 2233  organizational unit 65463   \nrequest for payment 73536     budget 899  organizational unit 65463   \nrequest for payment 76195    budget 4164  organizational unit 65463   \n...                                  ...                        ...   \nrequest for payment 186317       UNKNOWN  organizational unit 65456   \nrequest for payment 186241       UNKNOWN  organizational unit 65468   \nrequest for payment 48748    budget 1755  organizational unit 65469   \nrequest for payment 186247       UNKNOWN  organizational unit 65463   \nrequest for payment 186272       UNKNOWN  organizational unit 65458   \n\n                                           permit_org         project  \\\nid                                                                      \nrequest for payment 73550   organizational unit 65455     project 503   \nrequest for payment 73552   organizational unit 65455     project 503   \nrequest for payment 76316   organizational unit 65455     project 503   \nrequest for payment 73536   organizational unit 65455     project 503   \nrequest for payment 76195   organizational unit 65455     project 503   \n...                                               ...             ...   \nrequest for payment 186317                    UNKNOWN  project 151278   \nrequest for payment 186241                    UNKNOWN  project 147556   \nrequest for payment 48748   organizational unit 65454     project 503   \nrequest for payment 186247                    UNKNOWN  project 147531   \nrequest for payment 186272                    UNKNOWN  project 147620   \n\n                           permit_project  requested_budget  \\\nid                                                            \nrequest for payment 73550         UNKNOWN       1979.272104   \nrequest for payment 73552         UNKNOWN       1979.272104   \nrequest for payment 76316         UNKNOWN       3553.601973   \nrequest for payment 73536    project 2260       3627.364438   \nrequest for payment 76195         UNKNOWN        265.661318   \n...                                   ...               ...   \nrequest for payment 186317        UNKNOWN          0.000000   \nrequest for payment 186241        UNKNOWN          0.000000   \nrequest for payment 48748   project 48747       1827.310143   \nrequest for payment 186247        UNKNOWN          0.000000   \nrequest for payment 186272        UNKNOWN          0.000000   \n\n                                         permit  submissions  reimbursed  \nid                                                                        \nrequest for payment 73550   travel permit 73549            1       False  \nrequest for payment 73552   travel permit 73549            1        True  \nrequest for payment 76316   travel permit 76314            1        True  \nrequest for payment 73536   travel permit 73535            1        True  \nrequest for payment 76195   travel permit 76193            1        True  \n...                                         ...          ...         ...  \nrequest for payment 186317              UNKNOWN            1        True  \nrequest for payment 186241              UNKNOWN            1        True  \nrequest for payment 48748   travel permit 48745            1       False  \nrequest for payment 186247              UNKNOWN            1        True  \nrequest for payment 186272              UNKNOWN            1        True  \n\n[2007 rows x 11 columns]",
      "text/html": "<div>\n<style scoped>\n    .dataframe tbody tr th:only-of-type {\n        vertical-align: middle;\n    }\n\n    .dataframe tbody tr th {\n        vertical-align: top;\n    }\n\n    .dataframe thead th {\n        text-align: right;\n    }\n</style>\n<table border=\"1\" class=\"dataframe\">\n  <thead>\n    <tr style=\"text-align: right;\">\n      <th></th>\n      <th>id</th>\n      <th>amount</th>\n      <th>permit_budget</th>\n      <th>org</th>\n      <th>permit_org</th>\n      <th>project</th>\n      <th>permit_project</th>\n      <th>requested_budget</th>\n      <th>permit</th>\n      <th>submissions</th>\n      <th>reimbursed</th>\n    </tr>\n    <tr>\n      <th>id</th>\n      <th></th>\n      <th></th>\n      <th></th>\n      <th></th>\n      <th></th>\n      <th></th>\n      <th></th>\n      <th></th>\n      <th></th>\n      <th></th>\n      <th></th>\n    </tr>\n  </thead>\n  <tbody>\n    <tr>\n      <th>request for payment 73550</th>\n      <td>request for payment 73550</td>\n      <td>854.579838</td>\n      <td>budget 6198</td>\n      <td>organizational unit 65463</td>\n      <td>organizational unit 65455</td>\n      <td>project 503</td>\n      <td>UNKNOWN</td>\n      <td>1979.272104</td>\n      <td>travel permit 73549</td>\n      <td>1</td>\n      <td>False</td>\n    </tr>\n    <tr>\n      <th>request for payment 73552</th>\n      <td>request for payment 73552</td>\n      <td>854.579838</td>\n      <td>budget 6198</td>\n      <td>organizational unit 65463</td>\n      <td>organizational unit 65455</td>\n      <td>project 503</td>\n      <td>UNKNOWN</td>\n      <td>1979.272104</td>\n      <td>travel permit 73549</td>\n      <td>1</td>\n      <td>True</td>\n    </tr>\n    <tr>\n      <th>request for payment 76316</th>\n      <td>request for payment 76316</td>\n      <td>1173.957795</td>\n      <td>budget 2233</td>\n      <td>organizational unit 65463</td>\n      <td>organizational unit 65455</td>\n      <td>project 503</td>\n      <td>UNKNOWN</td>\n      <td>3553.601973</td>\n      <td>travel permit 76314</td>\n      <td>1</td>\n      <td>True</td>\n    </tr>\n    <tr>\n      <th>request for payment 73536</th>\n      <td>request for payment 73536</td>\n      <td>790.552073</td>\n      <td>budget 899</td>\n      <td>organizational unit 65463</td>\n      <td>organizational unit 65455</td>\n      <td>project 503</td>\n      <td>project 2260</td>\n      <td>3627.364438</td>\n      <td>travel permit 73535</td>\n      <td>1</td>\n      <td>True</td>\n    </tr>\n    <tr>\n      <th>request for payment 76195</th>\n      <td>request for payment 76195</td>\n      <td>181.978003</td>\n      <td>budget 4164</td>\n      <td>organizational unit 65463</td>\n      <td>organizational unit 65455</td>\n      <td>project 503</td>\n      <td>UNKNOWN</td>\n      <td>265.661318</td>\n      <td>travel permit 76193</td>\n      <td>1</td>\n      <td>True</td>\n    </tr>\n    <tr>\n      <th>...</th>\n      <td>...</td>\n      <td>...</td>\n      <td>...</td>\n      <td>...</td>\n      <td>...</td>\n      <td>...</td>\n      <td>...</td>\n      <td>...</td>\n      <td>...</td>\n      <td>...</td>\n      <td>...</td>\n    </tr>\n    <tr>\n      <th>request for payment 186317</th>\n      <td>request for payment 186317</td>\n      <td>251.008620</td>\n      <td>UNKNOWN</td>\n      <td>organizational unit 65456</td>\n      <td>UNKNOWN</td>\n      <td>project 151278</td>\n      <td>UNKNOWN</td>\n      <td>0.000000</td>\n      <td>UNKNOWN</td>\n      <td>1</td>\n      <td>True</td>\n    </tr>\n    <tr>\n      <th>request for payment 186241</th>\n      <td>request for payment 186241</td>\n      <td>261.459608</td>\n      <td>UNKNOWN</td>\n      <td>organizational unit 65468</td>\n      <td>UNKNOWN</td>\n      <td>project 147556</td>\n      <td>UNKNOWN</td>\n      <td>0.000000</td>\n      <td>UNKNOWN</td>\n      <td>1</td>\n      <td>True</td>\n    </tr>\n    <tr>\n      <th>request for payment 48748</th>\n      <td>request for payment 48748</td>\n      <td>1511.596873</td>\n      <td>budget 1755</td>\n      <td>organizational unit 65469</td>\n      <td>organizational unit 65454</td>\n      <td>project 503</td>\n      <td>project 48747</td>\n      <td>1827.310143</td>\n      <td>travel permit 48745</td>\n      <td>1</td>\n      <td>False</td>\n    </tr>\n    <tr>\n      <th>request for payment 186247</th>\n      <td>request for payment 186247</td>\n      <td>20.202607</td>\n      <td>UNKNOWN</td>\n      <td>organizational unit 65463</td>\n      <td>UNKNOWN</td>\n      <td>project 147531</td>\n      <td>UNKNOWN</td>\n      <td>0.000000</td>\n      <td>UNKNOWN</td>\n      <td>1</td>\n      <td>True</td>\n    </tr>\n    <tr>\n      <th>request for payment 186272</th>\n      <td>request for payment 186272</td>\n      <td>98.806057</td>\n      <td>UNKNOWN</td>\n      <td>organizational unit 65458</td>\n      <td>UNKNOWN</td>\n      <td>project 147620</td>\n      <td>UNKNOWN</td>\n      <td>0.000000</td>\n      <td>UNKNOWN</td>\n      <td>1</td>\n      <td>True</td>\n    </tr>\n  </tbody>\n</table>\n<p>2007 rows × 11 columns</p>\n</div>"
     },
     "metadata": {},
     "execution_count": 4
    }
   ],
   "source": [
    "# Schema: [{'id', 'amount', 'budget', 'permit_budget', 'activity', 'org', 'project', 'requested_budget', 'task', 'permit', 'travel_time', 'submissions', 'reimbursed'}]\n",
    "requests = []\n",
    "\n",
    "for request in ptc_log:\n",
    "    \n",
    "    requests.append(extract_info_from_request(request))\n",
    "\n",
    "ptc_dataframe = pd.DataFrame(requests)\n",
    "ptc_dataframe.set_index('id', drop=False)\n"
   ]
  },
  {
   "cell_type": "code",
   "execution_count": 5,
   "metadata": {
    "tags": []
   },
   "outputs": [
    {
     "output_type": "execute_result",
     "data": {
      "text/plain": "0.9511709018435476"
     },
     "metadata": {},
     "execution_count": 5
    }
   ],
   "source": [
    "ptc_dataframe['reimbursed'].mean()"
   ]
  },
  {
   "cell_type": "code",
   "execution_count": 6,
   "metadata": {
    "tags": []
   },
   "outputs": [
    {
     "output_type": "execute_result",
     "data": {
      "text/plain": "                                 amount submissions reimbursed     \n                                   mean        mean       mean size\norg                                                                \norganizational unit 65461    686.843526    1.125382   0.957187  327\norganizational unit 65463    761.462500    1.020202   0.942761  297\norganizational unit 65458    856.013544    1.027778   0.958333  288\norganizational unit 65454    621.400451    1.104478   0.973881  268\norganizational unit 65469    749.675184    1.106481   0.953704  216\norganizational unit 65462    835.325322    1.111111   0.937500  144\norganizational unit 65456    514.093513    1.117117   0.981982  111\norganizational unit 65465    611.221295    1.049020   0.901961  102\norganizational unit 65468  18526.409722    1.073171   0.926829   82\norganizational unit 65457    787.445716    1.189655   0.965517   58\norganizational unit 65475    762.577356    1.270270   0.972973   37\norganizational unit 65476    854.864336    1.125000   0.968750   32\norganizational unit 65482    354.144773    1.250000   0.875000    8\norganizational unit 65466    427.626501    1.166667   0.666667    6\norganizational unit 65472    641.595788    1.166667   0.833333    6\norganizational unit 65478   1421.220678    1.000000   1.000000    5\norganizational unit 65481   1530.119633    1.000000   1.000000    5\norganizational unit 65487   1216.250736    1.000000   0.666667    3\norganizational unit 65488    230.271423    1.000000   0.666667    3\norganizational unit 65480    793.141312    1.000000   1.000000    2\norganizational unit 65477    480.901917    1.000000   1.000000    2\norganizational unit 65455    458.777882    1.000000   1.000000    2\norganizational unit 65473     67.744147    1.000000   0.000000    1\norganizational unit 65485    614.325020    1.000000   1.000000    1\norganizational unit 65471   1128.244476    1.000000   1.000000    1",
      "text/html": "<div>\n<style scoped>\n    .dataframe tbody tr th:only-of-type {\n        vertical-align: middle;\n    }\n\n    .dataframe tbody tr th {\n        vertical-align: top;\n    }\n\n    .dataframe thead tr th {\n        text-align: left;\n    }\n\n    .dataframe thead tr:last-of-type th {\n        text-align: right;\n    }\n</style>\n<table border=\"1\" class=\"dataframe\">\n  <thead>\n    <tr>\n      <th></th>\n      <th>amount</th>\n      <th>submissions</th>\n      <th colspan=\"2\" halign=\"left\">reimbursed</th>\n    </tr>\n    <tr>\n      <th></th>\n      <th>mean</th>\n      <th>mean</th>\n      <th>mean</th>\n      <th>size</th>\n    </tr>\n    <tr>\n      <th>org</th>\n      <th></th>\n      <th></th>\n      <th></th>\n      <th></th>\n    </tr>\n  </thead>\n  <tbody>\n    <tr>\n      <th>organizational unit 65461</th>\n      <td>686.843526</td>\n      <td>1.125382</td>\n      <td>0.957187</td>\n      <td>327</td>\n    </tr>\n    <tr>\n      <th>organizational unit 65463</th>\n      <td>761.462500</td>\n      <td>1.020202</td>\n      <td>0.942761</td>\n      <td>297</td>\n    </tr>\n    <tr>\n      <th>organizational unit 65458</th>\n      <td>856.013544</td>\n      <td>1.027778</td>\n      <td>0.958333</td>\n      <td>288</td>\n    </tr>\n    <tr>\n      <th>organizational unit 65454</th>\n      <td>621.400451</td>\n      <td>1.104478</td>\n      <td>0.973881</td>\n      <td>268</td>\n    </tr>\n    <tr>\n      <th>organizational unit 65469</th>\n      <td>749.675184</td>\n      <td>1.106481</td>\n      <td>0.953704</td>\n      <td>216</td>\n    </tr>\n    <tr>\n      <th>organizational unit 65462</th>\n      <td>835.325322</td>\n      <td>1.111111</td>\n      <td>0.937500</td>\n      <td>144</td>\n    </tr>\n    <tr>\n      <th>organizational unit 65456</th>\n      <td>514.093513</td>\n      <td>1.117117</td>\n      <td>0.981982</td>\n      <td>111</td>\n    </tr>\n    <tr>\n      <th>organizational unit 65465</th>\n      <td>611.221295</td>\n      <td>1.049020</td>\n      <td>0.901961</td>\n      <td>102</td>\n    </tr>\n    <tr>\n      <th>organizational unit 65468</th>\n      <td>18526.409722</td>\n      <td>1.073171</td>\n      <td>0.926829</td>\n      <td>82</td>\n    </tr>\n    <tr>\n      <th>organizational unit 65457</th>\n      <td>787.445716</td>\n      <td>1.189655</td>\n      <td>0.965517</td>\n      <td>58</td>\n    </tr>\n    <tr>\n      <th>organizational unit 65475</th>\n      <td>762.577356</td>\n      <td>1.270270</td>\n      <td>0.972973</td>\n      <td>37</td>\n    </tr>\n    <tr>\n      <th>organizational unit 65476</th>\n      <td>854.864336</td>\n      <td>1.125000</td>\n      <td>0.968750</td>\n      <td>32</td>\n    </tr>\n    <tr>\n      <th>organizational unit 65482</th>\n      <td>354.144773</td>\n      <td>1.250000</td>\n      <td>0.875000</td>\n      <td>8</td>\n    </tr>\n    <tr>\n      <th>organizational unit 65466</th>\n      <td>427.626501</td>\n      <td>1.166667</td>\n      <td>0.666667</td>\n      <td>6</td>\n    </tr>\n    <tr>\n      <th>organizational unit 65472</th>\n      <td>641.595788</td>\n      <td>1.166667</td>\n      <td>0.833333</td>\n      <td>6</td>\n    </tr>\n    <tr>\n      <th>organizational unit 65478</th>\n      <td>1421.220678</td>\n      <td>1.000000</td>\n      <td>1.000000</td>\n      <td>5</td>\n    </tr>\n    <tr>\n      <th>organizational unit 65481</th>\n      <td>1530.119633</td>\n      <td>1.000000</td>\n      <td>1.000000</td>\n      <td>5</td>\n    </tr>\n    <tr>\n      <th>organizational unit 65487</th>\n      <td>1216.250736</td>\n      <td>1.000000</td>\n      <td>0.666667</td>\n      <td>3</td>\n    </tr>\n    <tr>\n      <th>organizational unit 65488</th>\n      <td>230.271423</td>\n      <td>1.000000</td>\n      <td>0.666667</td>\n      <td>3</td>\n    </tr>\n    <tr>\n      <th>organizational unit 65480</th>\n      <td>793.141312</td>\n      <td>1.000000</td>\n      <td>1.000000</td>\n      <td>2</td>\n    </tr>\n    <tr>\n      <th>organizational unit 65477</th>\n      <td>480.901917</td>\n      <td>1.000000</td>\n      <td>1.000000</td>\n      <td>2</td>\n    </tr>\n    <tr>\n      <th>organizational unit 65455</th>\n      <td>458.777882</td>\n      <td>1.000000</td>\n      <td>1.000000</td>\n      <td>2</td>\n    </tr>\n    <tr>\n      <th>organizational unit 65473</th>\n      <td>67.744147</td>\n      <td>1.000000</td>\n      <td>0.000000</td>\n      <td>1</td>\n    </tr>\n    <tr>\n      <th>organizational unit 65485</th>\n      <td>614.325020</td>\n      <td>1.000000</td>\n      <td>1.000000</td>\n      <td>1</td>\n    </tr>\n    <tr>\n      <th>organizational unit 65471</th>\n      <td>1128.244476</td>\n      <td>1.000000</td>\n      <td>1.000000</td>\n      <td>1</td>\n    </tr>\n  </tbody>\n</table>\n</div>"
     },
     "metadata": {},
     "execution_count": 6
    }
   ],
   "source": [
    "\n",
    "org_group = ptc_dataframe.groupby(['org'])\n",
    "org_group.agg({\n",
    "    'amount': 'mean',\n",
    "    'submissions': 'mean',\n",
    "    'reimbursed': ['mean', 'size']\n",
    "    }).sort_values(by=('reimbursed', 'size'), ascending=False)"
   ]
  },
  {
   "cell_type": "code",
   "execution_count": 7,
   "metadata": {},
   "outputs": [
    {
     "output_type": "execute_result",
     "data": {
      "text/plain": "                     amount submissions reimbursed      \n                       mean        mean       mean  size\nproject                                                 \nproject 503     1520.142604    1.092593   0.962963  1890\nUNKNOWN          591.306033    0.814815   0.000000    27\nproject 147556   257.043428    1.066667   1.000000    15\nproject 147546   136.153187    1.000000   1.000000     8\nproject 148052  1004.788680    1.125000   1.000000     8\nproject 147620   410.579192    1.125000   1.000000     8\nproject 147531   306.597268    1.000000   1.000000     7\nproject 151278   393.610495    1.000000   1.000000     6\nproject 147582   117.894452    1.000000   0.800000     5\nproject 147649   102.763809    1.000000   1.000000     4\nproject 147860   453.654805    1.000000   1.000000     4\nproject 147551   197.213643    1.000000   1.000000     3\nproject 148681   117.597460    1.000000   1.000000     3\nproject 147843   191.436368    1.500000   1.000000     2\nproject 147701    17.763360    1.000000   1.000000     2\nproject 150968    72.740798    1.000000   1.000000     2\nproject 147572    35.762189    1.000000   1.000000     2\nproject 152803   323.389755    1.000000   1.000000     2\nproject 155217  1050.440171    1.500000   1.000000     2\nproject 148982   214.216302    1.000000   1.000000     1\nproject 150197   139.390248    1.000000   1.000000     1\nproject 151211    78.304584    1.000000   1.000000     1\nproject 155098   111.073008    1.000000   1.000000     1\nproject 156832  1651.726820    1.000000   1.000000     1\nproject 164433   306.475343    1.000000   1.000000     1\nproject 148309    19.960877    1.000000   1.000000     1",
      "text/html": "<div>\n<style scoped>\n    .dataframe tbody tr th:only-of-type {\n        vertical-align: middle;\n    }\n\n    .dataframe tbody tr th {\n        vertical-align: top;\n    }\n\n    .dataframe thead tr th {\n        text-align: left;\n    }\n\n    .dataframe thead tr:last-of-type th {\n        text-align: right;\n    }\n</style>\n<table border=\"1\" class=\"dataframe\">\n  <thead>\n    <tr>\n      <th></th>\n      <th>amount</th>\n      <th>submissions</th>\n      <th colspan=\"2\" halign=\"left\">reimbursed</th>\n    </tr>\n    <tr>\n      <th></th>\n      <th>mean</th>\n      <th>mean</th>\n      <th>mean</th>\n      <th>size</th>\n    </tr>\n    <tr>\n      <th>project</th>\n      <th></th>\n      <th></th>\n      <th></th>\n      <th></th>\n    </tr>\n  </thead>\n  <tbody>\n    <tr>\n      <th>project 503</th>\n      <td>1520.142604</td>\n      <td>1.092593</td>\n      <td>0.962963</td>\n      <td>1890</td>\n    </tr>\n    <tr>\n      <th>UNKNOWN</th>\n      <td>591.306033</td>\n      <td>0.814815</td>\n      <td>0.000000</td>\n      <td>27</td>\n    </tr>\n    <tr>\n      <th>project 147556</th>\n      <td>257.043428</td>\n      <td>1.066667</td>\n      <td>1.000000</td>\n      <td>15</td>\n    </tr>\n    <tr>\n      <th>project 147546</th>\n      <td>136.153187</td>\n      <td>1.000000</td>\n      <td>1.000000</td>\n      <td>8</td>\n    </tr>\n    <tr>\n      <th>project 148052</th>\n      <td>1004.788680</td>\n      <td>1.125000</td>\n      <td>1.000000</td>\n      <td>8</td>\n    </tr>\n    <tr>\n      <th>project 147620</th>\n      <td>410.579192</td>\n      <td>1.125000</td>\n      <td>1.000000</td>\n      <td>8</td>\n    </tr>\n    <tr>\n      <th>project 147531</th>\n      <td>306.597268</td>\n      <td>1.000000</td>\n      <td>1.000000</td>\n      <td>7</td>\n    </tr>\n    <tr>\n      <th>project 151278</th>\n      <td>393.610495</td>\n      <td>1.000000</td>\n      <td>1.000000</td>\n      <td>6</td>\n    </tr>\n    <tr>\n      <th>project 147582</th>\n      <td>117.894452</td>\n      <td>1.000000</td>\n      <td>0.800000</td>\n      <td>5</td>\n    </tr>\n    <tr>\n      <th>project 147649</th>\n      <td>102.763809</td>\n      <td>1.000000</td>\n      <td>1.000000</td>\n      <td>4</td>\n    </tr>\n    <tr>\n      <th>project 147860</th>\n      <td>453.654805</td>\n      <td>1.000000</td>\n      <td>1.000000</td>\n      <td>4</td>\n    </tr>\n    <tr>\n      <th>project 147551</th>\n      <td>197.213643</td>\n      <td>1.000000</td>\n      <td>1.000000</td>\n      <td>3</td>\n    </tr>\n    <tr>\n      <th>project 148681</th>\n      <td>117.597460</td>\n      <td>1.000000</td>\n      <td>1.000000</td>\n      <td>3</td>\n    </tr>\n    <tr>\n      <th>project 147843</th>\n      <td>191.436368</td>\n      <td>1.500000</td>\n      <td>1.000000</td>\n      <td>2</td>\n    </tr>\n    <tr>\n      <th>project 147701</th>\n      <td>17.763360</td>\n      <td>1.000000</td>\n      <td>1.000000</td>\n      <td>2</td>\n    </tr>\n    <tr>\n      <th>project 150968</th>\n      <td>72.740798</td>\n      <td>1.000000</td>\n      <td>1.000000</td>\n      <td>2</td>\n    </tr>\n    <tr>\n      <th>project 147572</th>\n      <td>35.762189</td>\n      <td>1.000000</td>\n      <td>1.000000</td>\n      <td>2</td>\n    </tr>\n    <tr>\n      <th>project 152803</th>\n      <td>323.389755</td>\n      <td>1.000000</td>\n      <td>1.000000</td>\n      <td>2</td>\n    </tr>\n    <tr>\n      <th>project 155217</th>\n      <td>1050.440171</td>\n      <td>1.500000</td>\n      <td>1.000000</td>\n      <td>2</td>\n    </tr>\n    <tr>\n      <th>project 148982</th>\n      <td>214.216302</td>\n      <td>1.000000</td>\n      <td>1.000000</td>\n      <td>1</td>\n    </tr>\n    <tr>\n      <th>project 150197</th>\n      <td>139.390248</td>\n      <td>1.000000</td>\n      <td>1.000000</td>\n      <td>1</td>\n    </tr>\n    <tr>\n      <th>project 151211</th>\n      <td>78.304584</td>\n      <td>1.000000</td>\n      <td>1.000000</td>\n      <td>1</td>\n    </tr>\n    <tr>\n      <th>project 155098</th>\n      <td>111.073008</td>\n      <td>1.000000</td>\n      <td>1.000000</td>\n      <td>1</td>\n    </tr>\n    <tr>\n      <th>project 156832</th>\n      <td>1651.726820</td>\n      <td>1.000000</td>\n      <td>1.000000</td>\n      <td>1</td>\n    </tr>\n    <tr>\n      <th>project 164433</th>\n      <td>306.475343</td>\n      <td>1.000000</td>\n      <td>1.000000</td>\n      <td>1</td>\n    </tr>\n    <tr>\n      <th>project 148309</th>\n      <td>19.960877</td>\n      <td>1.000000</td>\n      <td>1.000000</td>\n      <td>1</td>\n    </tr>\n  </tbody>\n</table>\n</div>"
     },
     "metadata": {},
     "execution_count": 7
    }
   ],
   "source": [
    "project_group = ptc_dataframe.groupby(['project'])\n",
    "project_group.agg({\n",
    "    'amount': 'mean',\n",
    "    'submissions': 'mean',\n",
    "    'reimbursed': ['mean', 'size']\n",
    "    }).sort_values(by=('reimbursed', 'size'), ascending=False)"
   ]
  }
 ]
}