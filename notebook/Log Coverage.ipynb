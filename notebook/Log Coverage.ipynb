{
 "cells": [
  {
   "cell_type": "markdown",
   "metadata": {},
   "source": [
    "# Log Coverage"
   ]
  },
  {
   "cell_type": "code",
   "execution_count": 1,
   "metadata": {},
   "outputs": [],
   "source": [
    "import sys\n",
    "sys.path.insert(1, '../')\n",
    "\n",
    "from src.io import DOM_DEC, INT_DEC, PER, REQ, read_log, to_dataframe                 \n",
    "from src.insights import *"
   ]
  },
  {
   "cell_type": "markdown",
   "metadata": {},
   "source": [
    "## Load Log"
   ]
  },
  {
   "cell_type": "code",
   "execution_count": 2,
   "metadata": {
    "tags": []
   },
   "outputs": [
    {
     "output_type": "stream",
     "name": "stderr",
     "text": "parsing log, completed traces :: 100%|██████████| 6426/6426 [00:15<00:00, 413.45it/s]\n"
    }
   ],
   "source": [
    "log = read_log(PER)                                                              \n",
    "df_log = to_dataframe(log)                                                       "
   ]
  },
  {
   "cell_type": "markdown",
   "metadata": {},
   "source": [
    "### Get all attributes\n",
    "Each attribute in the log is one column in the dataframe."
   ]
  },
  {
   "cell_type": "code",
   "execution_count": 3,
   "metadata": {},
   "outputs": [],
   "source": [
    "clms = get_columns(df_log)"
   ]
  },
  {
   "cell_type": "code",
   "execution_count": 4,
   "metadata": {
    "tags": []
   },
   "outputs": [
    {
     "output_type": "stream",
     "name": "stdout",
     "text": "The log contains 169 attributes.\n"
    }
   ],
   "source": [
    "# print(clms)\n",
    "print('The log contains %s attributes.' %len(clms))"
   ]
  },
  {
   "cell_type": "markdown",
   "metadata": {},
   "source": [
    "### Calculate the coverage of the Log"
   ]
  },
  {
   "cell_type": "code",
   "execution_count": 6,
   "metadata": {},
   "outputs": [],
   "source": [
    "reports = []                                                      \n",
    "\n",
    "for idx, clm in enumerate(clms):                                                 \n",
    "    report = describe_clm(df_log, clm)                                           \n",
    "    reports.append(report)                                                                                                    \n",
    "\n",
    "#df_report.to_csv('report.csv')"
   ]
  },
  {
   "cell_type": "markdown",
   "metadata": {},
   "source": [
    "#### Convert back to dataframe"
   ]
  },
  {
   "cell_type": "code",
   "execution_count": 7,
   "metadata": {},
   "outputs": [],
   "source": [
    "df_report = pd.DataFrame(reports)                                                \n",
    "df_report.sort_values(by=['coverage'], inplace=True, ascending=False)"
   ]
  },
  {
   "cell_type": "code",
   "execution_count": 8,
   "metadata": {},
   "outputs": [
    {
     "output_type": "execute_result",
     "data": {
      "text/plain": "                         column  elements  unique_elements    NaN  coverage\n0                    transition     81092                1      0   100.000\n12         (case)_TotalDeclared     81092             5522      0   100.000\n1                     timestamp     81092            59148      0   100.000\n23                      creator     81092                1      0   100.000\n22                variant-index     81092             1402      0   100.000\n..                          ...       ...              ...    ...       ...\n90             (case)_dec_id_13     81092                2  81017     0.092\n82  (case)_DeclarationNumber_13     81092                2  81017     0.092\n81  (case)_DeclarationNumber_12     81092                2  81017     0.092\n87             (case)_dec_id_10     81092                2  81017     0.092\n89             (case)_dec_id_12     81092                2  81017     0.092\n\n[169 rows x 5 columns]",
      "text/html": "<div>\n<style scoped>\n    .dataframe tbody tr th:only-of-type {\n        vertical-align: middle;\n    }\n\n    .dataframe tbody tr th {\n        vertical-align: top;\n    }\n\n    .dataframe thead th {\n        text-align: right;\n    }\n</style>\n<table border=\"1\" class=\"dataframe\">\n  <thead>\n    <tr style=\"text-align: right;\">\n      <th></th>\n      <th>column</th>\n      <th>elements</th>\n      <th>unique_elements</th>\n      <th>NaN</th>\n      <th>coverage</th>\n    </tr>\n  </thead>\n  <tbody>\n    <tr>\n      <th>0</th>\n      <td>transition</td>\n      <td>81092</td>\n      <td>1</td>\n      <td>0</td>\n      <td>100.000</td>\n    </tr>\n    <tr>\n      <th>12</th>\n      <td>(case)_TotalDeclared</td>\n      <td>81092</td>\n      <td>5522</td>\n      <td>0</td>\n      <td>100.000</td>\n    </tr>\n    <tr>\n      <th>1</th>\n      <td>timestamp</td>\n      <td>81092</td>\n      <td>59148</td>\n      <td>0</td>\n      <td>100.000</td>\n    </tr>\n    <tr>\n      <th>23</th>\n      <td>creator</td>\n      <td>81092</td>\n      <td>1</td>\n      <td>0</td>\n      <td>100.000</td>\n    </tr>\n    <tr>\n      <th>22</th>\n      <td>variant-index</td>\n      <td>81092</td>\n      <td>1402</td>\n      <td>0</td>\n      <td>100.000</td>\n    </tr>\n    <tr>\n      <th>...</th>\n      <td>...</td>\n      <td>...</td>\n      <td>...</td>\n      <td>...</td>\n      <td>...</td>\n    </tr>\n    <tr>\n      <th>90</th>\n      <td>(case)_dec_id_13</td>\n      <td>81092</td>\n      <td>2</td>\n      <td>81017</td>\n      <td>0.092</td>\n    </tr>\n    <tr>\n      <th>82</th>\n      <td>(case)_DeclarationNumber_13</td>\n      <td>81092</td>\n      <td>2</td>\n      <td>81017</td>\n      <td>0.092</td>\n    </tr>\n    <tr>\n      <th>81</th>\n      <td>(case)_DeclarationNumber_12</td>\n      <td>81092</td>\n      <td>2</td>\n      <td>81017</td>\n      <td>0.092</td>\n    </tr>\n    <tr>\n      <th>87</th>\n      <td>(case)_dec_id_10</td>\n      <td>81092</td>\n      <td>2</td>\n      <td>81017</td>\n      <td>0.092</td>\n    </tr>\n    <tr>\n      <th>89</th>\n      <td>(case)_dec_id_12</td>\n      <td>81092</td>\n      <td>2</td>\n      <td>81017</td>\n      <td>0.092</td>\n    </tr>\n  </tbody>\n</table>\n<p>169 rows × 5 columns</p>\n</div>"
     },
     "metadata": {},
     "execution_count": 8
    }
   ],
   "source": [
    "df_report"
   ]
  },
  {
   "cell_type": "markdown",
   "metadata": {},
   "source": [
    "Which attributes have a data coverage over 50%?"
   ]
  },
  {
   "cell_type": "code",
   "execution_count": 9,
   "metadata": {},
   "outputs": [
    {
     "output_type": "execute_result",
     "data": {
      "text/plain": "                         column  elements  unique_elements    NaN  coverage\n0                    transition     81092                1      0   100.000\n12         (case)_TotalDeclared     81092             5522      0   100.000\n1                     timestamp     81092            59148      0   100.000\n23                      creator     81092                1      0   100.000\n22                variant-index     81092             1402      0   100.000\n21                      variant     81092             1402      0   100.000\n20                         name     81092             6426      0   100.000\n19                         role     81092                8      0   100.000\n17                           id     81092            81092      0   100.000\n16                         name     81092               49      0   100.000\n15  (case)_travel_permit_number     81092             6275      0   100.000\n14                    (case)_id     81092             6426      0   100.000\n18                     resource     81092                2      0   100.000\n10       (case)_RequestedBudget     81092             5779      0   100.000\n8          (case)_ProjectNumber     81092              854      0   100.000\n7        (case)_OverspentAmount     81092             6092      0   100.000\n6              (case)_Overspent     81092                2      0   100.000\n5   (case)_OrganizationalEntity     81092               29      0   100.000\n3           (case)_BudgetNumber     81092              218      0   100.000\n11            (case)_TaskNumber     81092                6      0   100.000\n2         (case)_ActivityNumber     81092              158      0   100.000\n9      (case)_RequestedAmount_0     81092             3081   6197    92.358\n13              (case)_dec_id_0     81092             4382  29524    63.592\n4    (case)_DeclarationNumber_0     81092             4311  29524    63.592",
      "text/html": "<div>\n<style scoped>\n    .dataframe tbody tr th:only-of-type {\n        vertical-align: middle;\n    }\n\n    .dataframe tbody tr th {\n        vertical-align: top;\n    }\n\n    .dataframe thead th {\n        text-align: right;\n    }\n</style>\n<table border=\"1\" class=\"dataframe\">\n  <thead>\n    <tr style=\"text-align: right;\">\n      <th></th>\n      <th>column</th>\n      <th>elements</th>\n      <th>unique_elements</th>\n      <th>NaN</th>\n      <th>coverage</th>\n    </tr>\n  </thead>\n  <tbody>\n    <tr>\n      <th>0</th>\n      <td>transition</td>\n      <td>81092</td>\n      <td>1</td>\n      <td>0</td>\n      <td>100.000</td>\n    </tr>\n    <tr>\n      <th>12</th>\n      <td>(case)_TotalDeclared</td>\n      <td>81092</td>\n      <td>5522</td>\n      <td>0</td>\n      <td>100.000</td>\n    </tr>\n    <tr>\n      <th>1</th>\n      <td>timestamp</td>\n      <td>81092</td>\n      <td>59148</td>\n      <td>0</td>\n      <td>100.000</td>\n    </tr>\n    <tr>\n      <th>23</th>\n      <td>creator</td>\n      <td>81092</td>\n      <td>1</td>\n      <td>0</td>\n      <td>100.000</td>\n    </tr>\n    <tr>\n      <th>22</th>\n      <td>variant-index</td>\n      <td>81092</td>\n      <td>1402</td>\n      <td>0</td>\n      <td>100.000</td>\n    </tr>\n    <tr>\n      <th>21</th>\n      <td>variant</td>\n      <td>81092</td>\n      <td>1402</td>\n      <td>0</td>\n      <td>100.000</td>\n    </tr>\n    <tr>\n      <th>20</th>\n      <td>name</td>\n      <td>81092</td>\n      <td>6426</td>\n      <td>0</td>\n      <td>100.000</td>\n    </tr>\n    <tr>\n      <th>19</th>\n      <td>role</td>\n      <td>81092</td>\n      <td>8</td>\n      <td>0</td>\n      <td>100.000</td>\n    </tr>\n    <tr>\n      <th>17</th>\n      <td>id</td>\n      <td>81092</td>\n      <td>81092</td>\n      <td>0</td>\n      <td>100.000</td>\n    </tr>\n    <tr>\n      <th>16</th>\n      <td>name</td>\n      <td>81092</td>\n      <td>49</td>\n      <td>0</td>\n      <td>100.000</td>\n    </tr>\n    <tr>\n      <th>15</th>\n      <td>(case)_travel_permit_number</td>\n      <td>81092</td>\n      <td>6275</td>\n      <td>0</td>\n      <td>100.000</td>\n    </tr>\n    <tr>\n      <th>14</th>\n      <td>(case)_id</td>\n      <td>81092</td>\n      <td>6426</td>\n      <td>0</td>\n      <td>100.000</td>\n    </tr>\n    <tr>\n      <th>18</th>\n      <td>resource</td>\n      <td>81092</td>\n      <td>2</td>\n      <td>0</td>\n      <td>100.000</td>\n    </tr>\n    <tr>\n      <th>10</th>\n      <td>(case)_RequestedBudget</td>\n      <td>81092</td>\n      <td>5779</td>\n      <td>0</td>\n      <td>100.000</td>\n    </tr>\n    <tr>\n      <th>8</th>\n      <td>(case)_ProjectNumber</td>\n      <td>81092</td>\n      <td>854</td>\n      <td>0</td>\n      <td>100.000</td>\n    </tr>\n    <tr>\n      <th>7</th>\n      <td>(case)_OverspentAmount</td>\n      <td>81092</td>\n      <td>6092</td>\n      <td>0</td>\n      <td>100.000</td>\n    </tr>\n    <tr>\n      <th>6</th>\n      <td>(case)_Overspent</td>\n      <td>81092</td>\n      <td>2</td>\n      <td>0</td>\n      <td>100.000</td>\n    </tr>\n    <tr>\n      <th>5</th>\n      <td>(case)_OrganizationalEntity</td>\n      <td>81092</td>\n      <td>29</td>\n      <td>0</td>\n      <td>100.000</td>\n    </tr>\n    <tr>\n      <th>3</th>\n      <td>(case)_BudgetNumber</td>\n      <td>81092</td>\n      <td>218</td>\n      <td>0</td>\n      <td>100.000</td>\n    </tr>\n    <tr>\n      <th>11</th>\n      <td>(case)_TaskNumber</td>\n      <td>81092</td>\n      <td>6</td>\n      <td>0</td>\n      <td>100.000</td>\n    </tr>\n    <tr>\n      <th>2</th>\n      <td>(case)_ActivityNumber</td>\n      <td>81092</td>\n      <td>158</td>\n      <td>0</td>\n      <td>100.000</td>\n    </tr>\n    <tr>\n      <th>9</th>\n      <td>(case)_RequestedAmount_0</td>\n      <td>81092</td>\n      <td>3081</td>\n      <td>6197</td>\n      <td>92.358</td>\n    </tr>\n    <tr>\n      <th>13</th>\n      <td>(case)_dec_id_0</td>\n      <td>81092</td>\n      <td>4382</td>\n      <td>29524</td>\n      <td>63.592</td>\n    </tr>\n    <tr>\n      <th>4</th>\n      <td>(case)_DeclarationNumber_0</td>\n      <td>81092</td>\n      <td>4311</td>\n      <td>29524</td>\n      <td>63.592</td>\n    </tr>\n  </tbody>\n</table>\n</div>"
     },
     "metadata": {},
     "execution_count": 9
    }
   ],
   "source": [
    "sub = df_report[df_report['coverage'].apply(lambda x: x > 49)]\n",
    "sub"
   ]
  },
  {
   "cell_type": "code",
   "execution_count": 10,
   "metadata": {
    "tags": []
   },
   "outputs": [
    {
     "output_type": "stream",
     "name": "stdout",
     "text": "The result containts 24 elements.\n"
    }
   ],
   "source": [
    "print('The result containts %s elements.' %len(sub))"
   ]
  }
 ],
 "metadata": {
  "kernelspec": {
   "display_name": "Python 3",
   "language": "python",
   "name": "python3"
  },
  "language_info": {
   "codemirror_mode": {
    "name": "ipython",
    "version": 3
   },
   "file_extension": ".py",
   "mimetype": "text/x-python",
   "name": "python",
   "nbconvert_exporter": "python",
   "pygments_lexer": "ipython3",
   "version": "3.7.4-final"
  },
  "toc": {
   "base_numbering": 1,
   "nav_menu": {},
   "number_sections": true,
   "sideBar": true,
   "skip_h1_title": false,
   "title_cell": "Table of Contents",
   "title_sidebar": "Contents",
   "toc_cell": false,
   "toc_position": {},
   "toc_section_display": true,
   "toc_window_display": false
  }
 },
 "nbformat": 4,
 "nbformat_minor": 4
}