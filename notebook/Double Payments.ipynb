{
 "cells": [
  {
   "cell_type": "markdown",
   "metadata": {},
   "source": [
    "# Double Payment Analysis\n",
    "\n",
    "\n",
    "Question: Are there any double payments?"
   ]
  },
  {
   "cell_type": "markdown",
   "metadata": {},
   "source": [
    "What are double payments?\n",
    "\n",
    "1. Paid a declaration at least twice.\n",
    "2. Paid prepaid travel costs again.\n",
    "\n",
    "__Idea__: declaration number should be unique and only paid once.\n",
    "\n",
    "__Problem__: Multiple declaration might be handled multiple times if not the the complete amount was paid."
   ]
  },
  {
   "cell_type": "code",
   "execution_count": 1,
   "metadata": {},
   "outputs": [],
   "source": [
    "import sys\n",
    "sys.path.insert(1, '../')"
   ]
  },
  {
   "cell_type": "code",
   "execution_count": 23,
   "metadata": {},
   "outputs": [],
   "source": [
    "from src.io import DOM_DEC, INT_DEC, PER, PRE, read_log, to_dataframe                 \n",
    "\n",
    "# util\n",
    "from matplotlib import pyplot as plot\n",
    "from datetime import datetime, timedelta\n",
    "import numpy as np\n",
    "from collections import Counter\n",
    "import pandas as pd\n",
    "from functools import reduce"
   ]
  },
  {
   "cell_type": "code",
   "execution_count": 4,
   "metadata": {},
   "outputs": [],
   "source": [
    "def check_for_double_payments(log):\n",
    "    declarations = []\n",
    "    double_booked = []\n",
    "\n",
    "    for trace in log:\n",
    "        for event in trace:\n",
    "            if event['concept:name'] == 'Payment Handled':\n",
    "                dec = trace.attributes['concept:name']\n",
    "                try:\n",
    "                    dec = int(dec.split('declaration')[1].strip())\n",
    "                except:\n",
    "                    # print(trace.attributes['concept:name'] +': ' +dec)\n",
    "                    pass\n",
    "                if dec in declarations:\n",
    "                    double_booked.append(dec)\n",
    "                else:\n",
    "                    declarations.append(dec)\n",
    "    \n",
    "    print('There are %s double payments.' %len(set(double_booked)))\n",
    "    return double_booked"
   ]
  },
  {
   "cell_type": "markdown",
   "metadata": {},
   "source": [
    "## Domestic Declarations"
   ]
  },
  {
   "cell_type": "code",
   "execution_count": 5,
   "metadata": {
    "tags": []
   },
   "outputs": [
    {
     "output_type": "stream",
     "name": "stderr",
     "text": "parsing log, completed traces :: 100%|██████████| 10357/10357 [00:04<00:00, 2106.56it/s]\n"
    }
   ],
   "source": [
    "log_dom_dec = read_log(DOM_DEC)"
   ]
  },
  {
   "cell_type": "code",
   "execution_count": 6,
   "metadata": {
    "tags": []
   },
   "outputs": [
    {
     "output_type": "stream",
     "name": "stdout",
     "text": "There are 0 double payments.\n"
    }
   ],
   "source": [
    "double_payments = check_for_double_payments(log_dom_dec)"
   ]
  },
  {
   "cell_type": "markdown",
   "metadata": {},
   "source": [
    "## International Declarations"
   ]
  },
  {
   "cell_type": "code",
   "execution_count": 7,
   "metadata": {
    "scrolled": true,
    "tags": []
   },
   "outputs": [
    {
     "output_type": "stream",
     "name": "stderr",
     "text": "parsing log, completed traces :: 100%|██████████| 6323/6323 [00:14<00:00, 444.81it/s]\n"
    }
   ],
   "source": [
    "log_int_dec = read_log(INT_DEC)"
   ]
  },
  {
   "cell_type": "code",
   "execution_count": 8,
   "metadata": {
    "tags": []
   },
   "outputs": [
    {
     "output_type": "stream",
     "name": "stdout",
     "text": "There are 0 double payments.\n"
    }
   ],
   "source": [
    "double_payments = check_for_double_payments(log_int_dec)"
   ]
  },
  {
   "cell_type": "markdown",
   "metadata": {},
   "source": [
    "## Travel Permits"
   ]
  },
  {
   "cell_type": "markdown",
   "metadata": {},
   "source": [
    "### Search for double payments"
   ]
  },
  {
   "cell_type": "code",
   "execution_count": 9,
   "metadata": {
    "tags": []
   },
   "outputs": [
    {
     "output_type": "stream",
     "name": "stderr",
     "text": "parsing log, completed traces :: 100%|██████████| 6426/6426 [00:20<00:00, 321.11it/s]\n"
    }
   ],
   "source": [
    "log_per = read_log(PER)"
   ]
  },
  {
   "cell_type": "markdown",
   "metadata": {},
   "source": [
    "__Question:__\n",
    "Relation between: Requested amount, requested budget, and total declared?"
   ]
  },
  {
   "cell_type": "code",
   "execution_count": 11,
   "metadata": {
    "tags": []
   },
   "outputs": [
    {
     "output_type": "stream",
     "name": "stdout",
     "text": "There are 1202 double payments.\n"
    }
   ],
   "source": [
    "double_payments = check_for_double_payments(log_per)"
   ]
  },
  {
   "cell_type": "markdown",
   "metadata": {},
   "source": [
    "Examples of cases with multiple payments:"
   ]
  },
  {
   "cell_type": "code",
   "execution_count": 12,
   "metadata": {
    "tags": []
   },
   "outputs": [
    {
     "output_type": "stream",
     "name": "stdout",
     "text": "['travelpermit44505', 'travelpermit54681', 'travelpermit29696']\n"
    }
   ],
   "source": [
    "double_booked = list(set(double_payments))\n",
    "print(double_booked[:3])"
   ]
  },
  {
   "cell_type": "markdown",
   "metadata": {},
   "source": [
    "### Investigate Permits with multiple payments"
   ]
  },
  {
   "cell_type": "markdown",
   "metadata": {},
   "source": [
    "Create new subset of the log, containing only cases with multiple 'payment handled' activities."
   ]
  },
  {
   "cell_type": "code",
   "execution_count": 13,
   "metadata": {},
   "outputs": [],
   "source": [
    "subset = list(filter(lambda trace: trace.attributes['concept:name'] in double_booked , log_per))"
   ]
  },
  {
   "cell_type": "code",
   "execution_count": 16,
   "metadata": {},
   "outputs": [],
   "source": [
    "def calc_potential_loss(amounts: list):\n",
    "    loss = 0\n",
    "    k = list(Counter(amounts).keys())\n",
    "    v = list(Counter(amounts).values())\n",
    "    for idx, value in enumerate(v):\n",
    "        if value > 1:\n",
    "            loss += k[idx] * (value - 1) \n",
    "    return loss\n",
    "\n",
    "def amount_to_int(value: str):\n",
    "    if (',' in value):\n",
    "        value = value.replace(',', '')\n",
    "        return int(value)\n",
    "    elif ('.' in value):\n",
    "        return float(value)\n",
    "    elif value == '':\n",
    "        value = 0\n",
    "    \n",
    "    return int(value)"
   ]
  },
  {
   "cell_type": "code",
   "execution_count": 19,
   "metadata": {
    "tags": []
   },
   "outputs": [
    {
     "output_type": "stream",
     "name": "stdout",
     "text": "Trace Length  # of Payments  Potential Loss\n54518            24              3   475704.945921\n72935            23              3     2726.802196\n58250            24              3     1397.137205\n83423            14              3     1394.160631\n78577            19              3      667.064113\n47318            44              6      426.550502\n49668            33              4      375.555258\n32177            33              5      296.329435\n80539            33              6      231.014366\n21585            21              4      227.631376\n32577            61             10      226.000000\n45618            53              9      208.000000\n64095            45              5      160.000000\n66595            37              6      150.000000\n14193            30              3       88.000000\n1726             15              2       57.000000\n22776            81             15       43.718358\n62668            39              5       35.000000\n81226            25              5       21.000000\n81831            24              4       18.000000\n-------------------------------------------------\nTotal number of suspicious cases: 20\n"
    }
   ],
   "source": [
    "suspicious_cases = []\n",
    "trace_length = []\n",
    "number_of_payments = []\n",
    "potential_loss = []\n",
    "\n",
    "for trace in subset:\n",
    "    # get all requested amounts\n",
    "    requested_amounts_ids = list(filter(lambda attr: 'RequestedAmount' in attr, trace[0]))\n",
    "    \n",
    "    amounts = []\n",
    "    \n",
    "    for request_id in requested_amounts_ids:\n",
    "        amounts.append(amount_to_int(str(trace[0][request_id])))\n",
    "    \n",
    "    # if multiple time the same amount is requested\n",
    "    if len(amounts) is not len(set(amounts)):\n",
    "        \n",
    "        loss = calc_potential_loss(amounts)\n",
    "        if loss > 0:\n",
    "            suspicious_cases.append(trace.attributes['concept:name'].replace('travelpermit', ''))\n",
    "            trace_length.append(len(trace))\n",
    "            number_of_payments.append(len(amounts))\n",
    "            potential_loss.append(loss)\n",
    "        \n",
    "        # print('Potential fraud in case: %s (%s events, loss: %s)' %(trace.attributes['id'], len(trace), loss))\n",
    "\n",
    "fraud = {'Trace Length' : trace_length, '# of Payments' : number_of_payments, 'Potential Loss' : potential_loss}\n",
    "        \n",
    "results = pd.DataFrame(fraud, \n",
    "                       columns = ['Trace Length','# of Payments', 'Potential Loss'], \n",
    "                       index=suspicious_cases)\n",
    "results = results.sort_values(by='Potential Loss', ascending=False)\n",
    "\n",
    "print(results)\n",
    "print('-------------------------------------------------')\n",
    "print('Total number of suspicious cases: %s' %len(suspicious_cases))"
   ]
  },
  {
   "cell_type": "markdown",
   "metadata": {},
   "source": [
    "### Compare different attributes\n",
    "\n",
    "- (case)_RequestedAmount_X\n",
    "- (case)_Overspent\n",
    "- (case)_OverspentAmount\n",
    "- (case)_RequestedBudget\n",
    "- (case)_TotalDeclared"
   ]
  },
  {
   "cell_type": "code",
   "execution_count": 20,
   "metadata": {},
   "outputs": [
    {
     "output_type": "execute_result",
     "data": {
      "text/plain": "{'lifecycle:transition': 'complete', 'time:timestamp': datetime.datetime(2017, 1, 9, 0, 0, tzinfo=datetime.timezone(datetime.timedelta(seconds=3600))), '(case)_ActivityNumber': 'UNKNOWN', '(case)_BudgetNumber': 'budget 2233', '(case)_DeclarationNumber_0': 'declaration number 72591', '(case)_OrganizationalEntity': 'organizational unit 65455', '(case)_Overspent': 'false', '(case)_OverspentAmount': '-203.9666139130759', '(case)_ProjectNumber': 'UNKNOWN', '(case)_RequestedAmount_0': '20', '(case)_RequestedBudget': '245.0601031890994', '(case)_TaskNumber': 'UNKNOWN', '(case)_TotalDeclared': '14.569043850933994', '(case)_dec_id_0': 'declaration 72590', '(case)_id': 'travel permit 72588', '(case)_travel_permit_number': 'travel permit number 72589', 'concept:name': 'Start trip', 'id': 'rv_travel permit 72588_6', 'org:resource': 'STAFF MEMBER', 'org:role': 'EMPLOYEE'}"
     },
     "metadata": {},
     "execution_count": 20
    }
   ],
   "source": [
    "log_per[0][0]"
   ]
  },
  {
   "cell_type": "markdown",
   "metadata": {},
   "source": [
    "#### Relation of TotalDeclared and RequestedAmounts"
   ]
  },
  {
   "cell_type": "markdown",
   "metadata": {},
   "source": [
    " $Total Declared = \\sum_{i=0}^{n} RequestedAmount_i$"
   ]
  },
  {
   "cell_type": "code",
   "execution_count": 156,
   "metadata": {},
   "outputs": [],
   "source": []
  },
  {
   "cell_type": "code",
   "execution_count": 21,
   "metadata": {},
   "outputs": [],
   "source": [
    "def convert_amount(amount:str):\n",
    "    if ',' in amount:\n",
    "        amount = amount.replace(',', '')\n",
    "    return float(amount)"
   ]
  },
  {
   "cell_type": "code",
   "execution_count": 24,
   "metadata": {},
   "outputs": [],
   "source": [
    "trace = log_per[0]\n",
    "\n",
    "suspicious_cases = []\n",
    "for trace in log_per:\n",
    "    td = float(trace[0]['(case)_TotalDeclared'])\n",
    "    requests = list(filter(lambda x: '(case)_RequestedAmount' in x, trace[0]))\n",
    "    amounts = list(map(lambda x: convert_amount(trace[0][x]), requests))\n",
    "    if len(amounts) > 0:\n",
    "        total_amounts = reduce(lambda x,y: x + y, amounts)\n",
    "    else:\n",
    "        # no amount requested\n",
    "        total_amounts = 0\n",
    "    \n",
    "    if total_amounts < td:\n",
    "        suspicious_cases.append((trace.attributes['concept:name'], total_amounts, td))"
   ]
  },
  {
   "cell_type": "markdown",
   "metadata": {},
   "source": [
    "Inspect one example:"
   ]
  },
  {
   "cell_type": "code",
   "execution_count": 25,
   "metadata": {},
   "outputs": [
    {
     "output_type": "execute_result",
     "data": {
      "text/plain": "('travelpermit76036', 587.0, 635.2514478871398)"
     },
     "metadata": {},
     "execution_count": 25
    }
   ],
   "source": [
    "suspicious_cases[0]"
   ]
  },
  {
   "cell_type": "code",
   "execution_count": 26,
   "metadata": {},
   "outputs": [],
   "source": [
    "cases = len(log_per)\n",
    "p = len(suspicious_cases) / cases * 100"
   ]
  },
  {
   "cell_type": "code",
   "execution_count": 28,
   "metadata": {
    "tags": []
   },
   "outputs": [
    {
     "output_type": "stream",
     "name": "stdout",
     "text": "In 2625 cases (40.85 perc.) the total declared value was higher, than the sum of the requested amounts.\n"
    }
   ],
   "source": [
    "print('In %s cases (%0.2f perc.) the total declared value was higher, than the sum of the requested amounts.' %(len(suspicious_cases), p))"
   ]
  },
  {
   "cell_type": "markdown",
   "metadata": {},
   "source": [
    "What is the average difference between those numbers?"
   ]
  },
  {
   "cell_type": "code",
   "execution_count": 31,
   "metadata": {
    "tags": []
   },
   "outputs": [
    {
     "output_type": "stream",
     "name": "stdout",
     "text": "avg: 204.95, max: 1747.76, min 0.12\n"
    }
   ],
   "source": [
    "diff = []\n",
    "for case in suspicious_cases:\n",
    "    diff.append(case[2] - case[1])\n",
    "\n",
    "avg = np.mean(diff)\n",
    "print('avg: %0.2f, max: %0.2f, min %0.2f' %(avg, max(diff), min(diff)))"
   ]
  },
  {
   "cell_type": "markdown",
   "metadata": {},
   "source": [
    "#### Compare overspent and overspent amount"
   ]
  },
  {
   "cell_type": "code",
   "execution_count": 32,
   "metadata": {},
   "outputs": [],
   "source": [
    "def convert_bool(value:str):\n",
    "    if 'false' in value:\n",
    "        return False\n",
    "    elif 'true' in value:\n",
    "        return True"
   ]
  },
  {
   "cell_type": "code",
   "execution_count": 33,
   "metadata": {},
   "outputs": [],
   "source": [
    "suspicious_cases = []\n",
    "\n",
    "for trace in log_per[0:1]:\n",
    "    overspent = convert_bool(trace[0]['(case)_Overspent'])\n",
    "    overspent_amount = convert_amount(trace[0]['(case)_OverspentAmount'])\n",
    "    if not overspent and overspent_amount <= 0:\n",
    "        pass\n",
    "    else:\n",
    "        suspicious_cases.append(trace.attributes['concept:name'])"
   ]
  },
  {
   "cell_type": "code",
   "execution_count": 35,
   "metadata": {
    "tags": []
   },
   "outputs": [
    {
     "output_type": "stream",
     "name": "stdout",
     "text": "There are 0 cases with a missmatch of overspent and overspent amount.\n"
    }
   ],
   "source": [
    "print('There are %s cases with a missmatch of overspent and overspent amount.' %len(suspicious_cases))"
   ]
  },
  {
   "cell_type": "markdown",
   "metadata": {},
   "source": [
    "### Compare Requested Budget, Total Declared, total amout and overspent"
   ]
  },
  {
   "cell_type": "code",
   "execution_count": 36,
   "metadata": {},
   "outputs": [],
   "source": [
    "suspicious_cases = []\n",
    "\n",
    "for trace in log_per:\n",
    "    requested_budget = convert_amount(trace[0]['(case)_RequestedBudget'])\n",
    "    td = float(trace[0]['(case)_TotalDeclared'])\n",
    "    overspent = convert_bool(trace[0]['(case)_Overspent'])\n",
    "    requests = list(filter(lambda x: '(case)_RequestedAmount' in x, trace[0]))\n",
    "    amounts = list(map(lambda x: convert_amount(trace[0][x]), requests))\n",
    "    if len(amounts) > 0:\n",
    "        total_amounts = reduce(lambda x,y: x + y, amounts)\n",
    "    else:\n",
    "        # no amount requested\n",
    "        total_amounts = 0\n",
    "    \n",
    "    if (td > requested_budget and total_amounts > requested_budget) and not overspent:\n",
    "        suspicious_cases.append((trace.attributes['concept:name'], td, requested_budget, total_amounts, overspent))\n",
    "        "
   ]
  },
  {
   "cell_type": "code",
   "execution_count": 37,
   "metadata": {},
   "outputs": [],
   "source": [
    "not_overspent = 0\n",
    "\n",
    "for trace in log_per:\n",
    "    if not convert_bool(trace[0]['(case)_Overspent']):\n",
    "        not_overspent += 1    \n",
    "\n",
    "p = len(suspicious_cases) / not_overspent * 100 "
   ]
  },
  {
   "cell_type": "code",
   "execution_count": 39,
   "metadata": {
    "tags": []
   },
   "outputs": [
    {
     "output_type": "stream",
     "name": "stdout",
     "text": "There are 594 cases (12.98 perc. of not overspent cases) where the total declared value and the sum of requested amounts is higher, the the requested budget but still not marked as overspent\n"
    }
   ],
   "source": [
    "print('There are %s cases (%0.2f perc. of not overspent cases) where the total declared value and the sum of requested amounts is higher, the the requested budget but still not marked as overspent' %(len(suspicious_cases), p))"
   ]
  },
  {
   "cell_type": "code",
   "execution_count": 40,
   "metadata": {},
   "outputs": [
    {
     "output_type": "execute_result",
     "data": {
      "text/plain": "('travelpermit77372', 943.2928285279097, 611.9260247840641, 700.0, False)"
     },
     "metadata": {},
     "execution_count": 40
    }
   ],
   "source": [
    "suspicious_cases[2]"
   ]
  }
 ],
 "metadata": {
  "kernelspec": {
   "display_name": "Python 3",
   "language": "python",
   "name": "python3"
  },
  "language_info": {
   "codemirror_mode": {
    "name": "ipython",
    "version": 3
   },
   "file_extension": ".py",
   "mimetype": "text/x-python",
   "name": "python",
   "nbconvert_exporter": "python",
   "pygments_lexer": "ipython3",
   "version": "3.7.4-final"
  },
  "toc": {
   "base_numbering": 1,
   "nav_menu": {},
   "number_sections": true,
   "sideBar": true,
   "skip_h1_title": false,
   "title_cell": "Table of Contents",
   "title_sidebar": "Contents",
   "toc_cell": false,
   "toc_position": {},
   "toc_section_display": true,
   "toc_window_display": false
  }
 },
 "nbformat": 4,
 "nbformat_minor": 4
}